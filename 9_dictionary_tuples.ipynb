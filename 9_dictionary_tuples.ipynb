{
 "cells": [
  {
   "cell_type": "code",
   "execution_count": 20,
   "id": "2e553d76",
   "metadata": {},
   "outputs": [],
   "source": [
    "#tuples () "
   ]
  },
  {
   "cell_type": "code",
   "execution_count": 21,
   "id": "ae2e57b2",
   "metadata": {},
   "outputs": [],
   "source": [
    "expenses = [1200,1400,1700]"
   ]
  },
  {
   "cell_type": "code",
   "execution_count": 22,
   "id": "b8417137",
   "metadata": {},
   "outputs": [],
   "source": [
    "point = (5,6)"
   ]
  },
  {
   "cell_type": "code",
   "execution_count": 23,
   "id": "89b48406",
   "metadata": {},
   "outputs": [
    {
     "data": {
      "text/plain": [
       "5"
      ]
     },
     "execution_count": 23,
     "metadata": {},
     "output_type": "execute_result"
    }
   ],
   "source": [
    "point[0]"
   ]
  },
  {
   "cell_type": "code",
   "execution_count": 24,
   "id": "60e224ed",
   "metadata": {},
   "outputs": [
    {
     "data": {
      "text/plain": [
       "6"
      ]
     },
     "execution_count": 24,
     "metadata": {},
     "output_type": "execute_result"
    }
   ],
   "source": [
    "point[1]"
   ]
  },
  {
   "cell_type": "code",
   "execution_count": 25,
   "id": "f675b993",
   "metadata": {},
   "outputs": [],
   "source": [
    "#tuples are immutable, once you initialize you can't change\n",
    "#because of these reasons tuples are more memory efficient "
   ]
  },
  {
   "cell_type": "code",
   "execution_count": 26,
   "id": "b68e6591",
   "metadata": {},
   "outputs": [
    {
     "ename": "TypeError",
     "evalue": "'tuple' object does not support item assignment",
     "output_type": "error",
     "traceback": [
      "\u001b[1;31m---------------------------------------------------------------------------\u001b[0m",
      "\u001b[1;31mTypeError\u001b[0m                                 Traceback (most recent call last)",
      "Cell \u001b[1;32mIn[26], line 2\u001b[0m\n\u001b[0;32m      1\u001b[0m point \u001b[38;5;241m=\u001b[39m (\u001b[38;5;241m5\u001b[39m,\u001b[38;5;241m69\u001b[39m,\u001b[38;5;241m10\u001b[39m,\u001b[38;5;241m11\u001b[39m)\n\u001b[1;32m----> 2\u001b[0m \u001b[43mpoint\u001b[49m\u001b[43m[\u001b[49m\u001b[38;5;241;43m1\u001b[39;49m\u001b[43m]\u001b[49m \u001b[38;5;241m=\u001b[39m \u001b[38;5;241m8\u001b[39m\n",
      "\u001b[1;31mTypeError\u001b[0m: 'tuple' object does not support item assignment"
     ]
    }
   ],
   "source": [
    "point = (5,69,10,11)\n",
    "point[1] = 8"
   ]
  },
  {
   "cell_type": "code",
   "execution_count": 27,
   "id": "a53a0e3c",
   "metadata": {},
   "outputs": [],
   "source": [
    "def find_pe_and_pb(price,eps,book_value):\n",
    "    pe = price/eps\n",
    "    pb = price/book_value\n",
    "    return pe,pb"
   ]
  },
  {
   "cell_type": "code",
   "execution_count": 28,
   "id": "b9c0a584",
   "metadata": {},
   "outputs": [],
   "source": [
    "pe_ratio, pb_ratio = find_pe_and_pb(100, 2, 4)"
   ]
  },
  {
   "cell_type": "code",
   "execution_count": 29,
   "id": "10989fc0",
   "metadata": {},
   "outputs": [
    {
     "data": {
      "text/plain": [
       "50.0"
      ]
     },
     "execution_count": 29,
     "metadata": {},
     "output_type": "execute_result"
    }
   ],
   "source": [
    "pe_ratio\n"
   ]
  },
  {
   "cell_type": "code",
   "execution_count": 30,
   "id": "bdb2feb5",
   "metadata": {},
   "outputs": [
    {
     "data": {
      "text/plain": [
       "25.0"
      ]
     },
     "execution_count": 30,
     "metadata": {},
     "output_type": "execute_result"
    }
   ],
   "source": [
    "pb_ratio"
   ]
  },
  {
   "cell_type": "code",
   "execution_count": 31,
   "id": "28bc9502",
   "metadata": {},
   "outputs": [],
   "source": [
    "#dictionary "
   ]
  },
  {
   "cell_type": "code",
   "execution_count": 32,
   "id": "32d11060",
   "metadata": {},
   "outputs": [],
   "source": [
    "contacts = [('rachel', 2334342244), ('monica', 82736363), ('joey', 373287237)]\n"
   ]
  },
  {
   "cell_type": "code",
   "execution_count": 35,
   "id": "6c512c22",
   "metadata": {},
   "outputs": [
    {
     "name": "stdout",
     "output_type": "stream",
     "text": [
      "373287237\n"
     ]
    }
   ],
   "source": [
    "for contact in contacts:\n",
    "    if contact[0]=='joey':\n",
    "        print(contact[1])"
   ]
  },
  {
   "cell_type": "code",
   "execution_count": 41,
   "id": "e07097fe",
   "metadata": {},
   "outputs": [],
   "source": [
    "# n = size of the lists, it takes o(n) time complexity\n",
    "# thats why we are using the dictionary "
   ]
  },
  {
   "cell_type": "code",
   "execution_count": 37,
   "id": "58f572ef",
   "metadata": {},
   "outputs": [
    {
     "data": {
      "text/plain": [
       "{'rachel': 34234242, 'monica': 327462784627, 'joey': 247267862}"
      ]
     },
     "execution_count": 37,
     "metadata": {},
     "output_type": "execute_result"
    }
   ],
   "source": [
    "d = {\n",
    "    'rachel': 34234242, \n",
    "    'monica': 327462784627,\n",
    "    'joey': 247267862\n",
    "}\n",
    "d"
   ]
  },
  {
   "cell_type": "code",
   "execution_count": 39,
   "id": "87273f1b",
   "metadata": {},
   "outputs": [
    {
     "data": {
      "text/plain": [
       "247267862"
      ]
     },
     "execution_count": 39,
     "metadata": {},
     "output_type": "execute_result"
    }
   ],
   "source": [
    "d['joey']"
   ]
  },
  {
   "cell_type": "code",
   "execution_count": 42,
   "id": "667282ae",
   "metadata": {},
   "outputs": [],
   "source": [
    "# time complexity for this dictionary 0(1)"
   ]
  },
  {
   "cell_type": "code",
   "execution_count": 43,
   "id": "d1da8da9",
   "metadata": {},
   "outputs": [
    {
     "ename": "KeyError",
     "evalue": "'mohan'",
     "output_type": "error",
     "traceback": [
      "\u001b[1;31m---------------------------------------------------------------------------\u001b[0m",
      "\u001b[1;31mKeyError\u001b[0m                                  Traceback (most recent call last)",
      "Cell \u001b[1;32mIn[43], line 1\u001b[0m\n\u001b[1;32m----> 1\u001b[0m \u001b[43md\u001b[49m\u001b[43m[\u001b[49m\u001b[38;5;124;43m'\u001b[39;49m\u001b[38;5;124;43mmohan\u001b[39;49m\u001b[38;5;124;43m'\u001b[39;49m\u001b[43m]\u001b[49m\n",
      "\u001b[1;31mKeyError\u001b[0m: 'mohan'"
     ]
    }
   ],
   "source": [
    "d['mohan']"
   ]
  },
  {
   "cell_type": "code",
   "execution_count": 45,
   "id": "e6115c0e",
   "metadata": {},
   "outputs": [
    {
     "data": {
      "text/plain": [
       "0"
      ]
     },
     "execution_count": 45,
     "metadata": {},
     "output_type": "execute_result"
    }
   ],
   "source": [
    "d.get('mohan', 0)"
   ]
  },
  {
   "cell_type": "code",
   "execution_count": 46,
   "id": "ae7433c8",
   "metadata": {},
   "outputs": [
    {
     "data": {
      "text/plain": [
       "34234242"
      ]
     },
     "execution_count": 46,
     "metadata": {},
     "output_type": "execute_result"
    }
   ],
   "source": [
    "d['rachel']\n"
   ]
  },
  {
   "cell_type": "code",
   "execution_count": 47,
   "id": "46f642d8",
   "metadata": {},
   "outputs": [],
   "source": [
    "d['rachel'] = 111111"
   ]
  },
  {
   "cell_type": "code",
   "execution_count": 48,
   "id": "07942be4",
   "metadata": {},
   "outputs": [
    {
     "data": {
      "text/plain": [
       "{'rachel': 111111, 'monica': 327462784627, 'joey': 247267862}"
      ]
     },
     "execution_count": 48,
     "metadata": {},
     "output_type": "execute_result"
    }
   ],
   "source": [
    "d"
   ]
  },
  {
   "cell_type": "code",
   "execution_count": 49,
   "id": "11f41c8d",
   "metadata": {},
   "outputs": [
    {
     "data": {
      "text/plain": [
       "{'rachel': 111111, 'monica': 327462784627, 'joey': 247267862, 'satye': 3242423}"
      ]
     },
     "execution_count": 49,
     "metadata": {},
     "output_type": "execute_result"
    }
   ],
   "source": [
    "d['satye'] = 3242423\n",
    "d\n"
   ]
  },
  {
   "cell_type": "code",
   "execution_count": 51,
   "id": "9536453d",
   "metadata": {},
   "outputs": [],
   "source": [
    "del d['satye']"
   ]
  },
  {
   "cell_type": "code",
   "execution_count": 52,
   "id": "c1223b3c",
   "metadata": {},
   "outputs": [
    {
     "data": {
      "text/plain": [
       "{'rachel': 111111, 'monica': 327462784627, 'joey': 247267862}"
      ]
     },
     "execution_count": 52,
     "metadata": {},
     "output_type": "execute_result"
    }
   ],
   "source": [
    "d"
   ]
  },
  {
   "cell_type": "code",
   "execution_count": 53,
   "id": "9d9c675b",
   "metadata": {},
   "outputs": [
    {
     "data": {
      "text/plain": [
       "False"
      ]
     },
     "execution_count": 53,
     "metadata": {},
     "output_type": "execute_result"
    }
   ],
   "source": [
    "'abdul' in d"
   ]
  },
  {
   "cell_type": "code",
   "execution_count": 54,
   "id": "512baac7",
   "metadata": {},
   "outputs": [
    {
     "data": {
      "text/plain": [
       "True"
      ]
     },
     "execution_count": 54,
     "metadata": {},
     "output_type": "execute_result"
    }
   ],
   "source": [
    "'rachel' in d"
   ]
  },
  {
   "cell_type": "code",
   "execution_count": 55,
   "id": "8f85c2f0",
   "metadata": {},
   "outputs": [],
   "source": [
    "d = {\n",
    "    'rachel' : { 'phone': 1233, 'address': '1 blue st'},\n",
    "    'joey' : { 'phone': 999, 'address': '1 blue st'}\n",
    "}"
   ]
  },
  {
   "cell_type": "code",
   "execution_count": 56,
   "id": "80bdf7bf",
   "metadata": {},
   "outputs": [
    {
     "data": {
      "text/plain": [
       "{'rachel': {'phone': 1233, 'address': '1 blue st'},\n",
       " 'joey': {'phone': 999, 'address': '1 blue st'}}"
      ]
     },
     "execution_count": 56,
     "metadata": {},
     "output_type": "execute_result"
    }
   ],
   "source": [
    "d"
   ]
  },
  {
   "cell_type": "code",
   "execution_count": 57,
   "id": "b7c96e2b",
   "metadata": {},
   "outputs": [
    {
     "data": {
      "text/plain": [
       "'1 blue st'"
      ]
     },
     "execution_count": 57,
     "metadata": {},
     "output_type": "execute_result"
    }
   ],
   "source": [
    "d['rachel']['address']"
   ]
  },
  {
   "cell_type": "code",
   "execution_count": 58,
   "id": "f14aa939",
   "metadata": {},
   "outputs": [
    {
     "data": {
      "text/plain": [
       "{'rachel': 34234242, 'monica': 327462784627, 'joey': 247267862}"
      ]
     },
     "execution_count": 58,
     "metadata": {},
     "output_type": "execute_result"
    }
   ],
   "source": [
    "d = {\n",
    "    'rachel': 34234242, \n",
    "    'monica': 327462784627,\n",
    "    'joey': 247267862\n",
    "}\n",
    "d"
   ]
  },
  {
   "cell_type": "code",
   "execution_count": 59,
   "id": "4f42aea3",
   "metadata": {},
   "outputs": [
    {
     "name": "stdout",
     "output_type": "stream",
     "text": [
      "rachel 34234242\n",
      "monica 327462784627\n",
      "joey 247267862\n"
     ]
    }
   ],
   "source": [
    "for name in d: \n",
    "    print(name, d[name])\n",
    "    "
   ]
  },
  {
   "cell_type": "code",
   "execution_count": 60,
   "id": "73d9d03e",
   "metadata": {},
   "outputs": [
    {
     "name": "stdout",
     "output_type": "stream",
     "text": [
      "rachel 34234242\n",
      "monica 327462784627\n",
      "joey 247267862\n"
     ]
    }
   ],
   "source": [
    "for name , number in d.items():\n",
    "    print(name, number)"
   ]
  },
  {
   "cell_type": "code",
   "execution_count": 61,
   "id": "9aaf2235",
   "metadata": {},
   "outputs": [
    {
     "data": {
      "text/plain": [
       "['__class__',\n",
       " '__class_getitem__',\n",
       " '__contains__',\n",
       " '__delattr__',\n",
       " '__delitem__',\n",
       " '__dir__',\n",
       " '__doc__',\n",
       " '__eq__',\n",
       " '__format__',\n",
       " '__ge__',\n",
       " '__getattribute__',\n",
       " '__getitem__',\n",
       " '__gt__',\n",
       " '__hash__',\n",
       " '__init__',\n",
       " '__init_subclass__',\n",
       " '__ior__',\n",
       " '__iter__',\n",
       " '__le__',\n",
       " '__len__',\n",
       " '__lt__',\n",
       " '__ne__',\n",
       " '__new__',\n",
       " '__or__',\n",
       " '__reduce__',\n",
       " '__reduce_ex__',\n",
       " '__repr__',\n",
       " '__reversed__',\n",
       " '__ror__',\n",
       " '__setattr__',\n",
       " '__setitem__',\n",
       " '__sizeof__',\n",
       " '__str__',\n",
       " '__subclasshook__',\n",
       " 'clear',\n",
       " 'copy',\n",
       " 'fromkeys',\n",
       " 'get',\n",
       " 'items',\n",
       " 'keys',\n",
       " 'pop',\n",
       " 'popitem',\n",
       " 'setdefault',\n",
       " 'update',\n",
       " 'values']"
      ]
     },
     "execution_count": 61,
     "metadata": {},
     "output_type": "execute_result"
    }
   ],
   "source": [
    "dir(d)"
   ]
  },
  {
   "cell_type": "code",
   "execution_count": 62,
   "id": "49f13b91",
   "metadata": {},
   "outputs": [
    {
     "data": {
      "text/plain": [
       "{'rachel': 34234242, 'monica': 327462784627, 'joey': 247267862}"
      ]
     },
     "execution_count": 62,
     "metadata": {},
     "output_type": "execute_result"
    }
   ],
   "source": [
    "d"
   ]
  },
  {
   "cell_type": "code",
   "execution_count": 64,
   "id": "f5b1c6fc",
   "metadata": {},
   "outputs": [
    {
     "data": {
      "text/plain": [
       "['rachel', 'monica', 'joey']"
      ]
     },
     "execution_count": 64,
     "metadata": {},
     "output_type": "execute_result"
    }
   ],
   "source": [
    "list(d.keys())"
   ]
  },
  {
   "cell_type": "code",
   "execution_count": 65,
   "id": "b5ef9e2f",
   "metadata": {},
   "outputs": [
    {
     "data": {
      "text/plain": [
       "dict_values([34234242, 327462784627, 247267862])"
      ]
     },
     "execution_count": 65,
     "metadata": {},
     "output_type": "execute_result"
    }
   ],
   "source": [
    "d.values()"
   ]
  },
  {
   "cell_type": "code",
   "execution_count": null,
   "id": "95ea55e4",
   "metadata": {},
   "outputs": [],
   "source": []
  }
 ],
 "metadata": {
  "kernelspec": {
   "display_name": "Python 3 (ipykernel)",
   "language": "python",
   "name": "python3"
  },
  "language_info": {
   "codemirror_mode": {
    "name": "ipython",
    "version": 3
   },
   "file_extension": ".py",
   "mimetype": "text/x-python",
   "name": "python",
   "nbconvert_exporter": "python",
   "pygments_lexer": "ipython3",
   "version": "3.10.6"
  }
 },
 "nbformat": 4,
 "nbformat_minor": 5
}

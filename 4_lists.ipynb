{
 "cells": [
  {
   "cell_type": "code",
   "execution_count": 1,
   "id": "90fe6f63",
   "metadata": {},
   "outputs": [],
   "source": [
    "item = [\"bread\", \"pasta\", \"cheese\", \"veggies\"]"
   ]
  },
  {
   "cell_type": "code",
   "execution_count": 2,
   "id": "0b98c2b1",
   "metadata": {},
   "outputs": [
    {
     "data": {
      "text/plain": [
       "['bread', 'pasta', 'cheese', 'veggies']"
      ]
     },
     "execution_count": 2,
     "metadata": {},
     "output_type": "execute_result"
    }
   ],
   "source": [
    "item"
   ]
  },
  {
   "cell_type": "code",
   "execution_count": 3,
   "id": "541b3bda",
   "metadata": {},
   "outputs": [
    {
     "data": {
      "text/plain": [
       "'bread'"
      ]
     },
     "execution_count": 3,
     "metadata": {},
     "output_type": "execute_result"
    }
   ],
   "source": [
    "item[0]"
   ]
  },
  {
   "cell_type": "code",
   "execution_count": 4,
   "id": "1f4f461a",
   "metadata": {},
   "outputs": [
    {
     "data": {
      "text/plain": [
       "'pasta'"
      ]
     },
     "execution_count": 4,
     "metadata": {},
     "output_type": "execute_result"
    }
   ],
   "source": [
    "item[1]"
   ]
  },
  {
   "cell_type": "code",
   "execution_count": 5,
   "id": "9e09c9c3",
   "metadata": {},
   "outputs": [
    {
     "data": {
      "text/plain": [
       "'veggies'"
      ]
     },
     "execution_count": 5,
     "metadata": {},
     "output_type": "execute_result"
    }
   ],
   "source": [
    "item[3]"
   ]
  },
  {
   "cell_type": "code",
   "execution_count": 8,
   "id": "2b0fecb3",
   "metadata": {},
   "outputs": [
    {
     "data": {
      "text/plain": [
       "['bread', 'pasta']"
      ]
     },
     "execution_count": 8,
     "metadata": {},
     "output_type": "execute_result"
    }
   ],
   "source": [
    "item[0:2]"
   ]
  },
  {
   "cell_type": "code",
   "execution_count": 9,
   "id": "0560d7c7",
   "metadata": {},
   "outputs": [],
   "source": [
    "item.append(\"butter\")"
   ]
  },
  {
   "cell_type": "code",
   "execution_count": 10,
   "id": "02ba055d",
   "metadata": {},
   "outputs": [
    {
     "data": {
      "text/plain": [
       "['bread', 'pasta', 'cheese', 'veggies', 'butter']"
      ]
     },
     "execution_count": 10,
     "metadata": {},
     "output_type": "execute_result"
    }
   ],
   "source": [
    "item"
   ]
  },
  {
   "cell_type": "code",
   "execution_count": 12,
   "id": "82a1c6cf",
   "metadata": {},
   "outputs": [
    {
     "data": {
      "text/plain": [
       "['bread', 'pasta', 'cheese', 'veggies']"
      ]
     },
     "execution_count": 12,
     "metadata": {},
     "output_type": "execute_result"
    }
   ],
   "source": [
    "item = [\"bread\", \"pasta\", \"cheese\", \"veggies\"]\n",
    "item"
   ]
  },
  {
   "cell_type": "code",
   "execution_count": 13,
   "id": "102982bd",
   "metadata": {},
   "outputs": [
    {
     "data": {
      "text/plain": [
       "['bread', 'butter', 'pasta', 'cheese', 'veggies']"
      ]
     },
     "execution_count": 13,
     "metadata": {},
     "output_type": "execute_result"
    }
   ],
   "source": [
    "item.insert(1,\"butter\")\n",
    "item"
   ]
  },
  {
   "cell_type": "code",
   "execution_count": 14,
   "id": "9f720073",
   "metadata": {},
   "outputs": [],
   "source": [
    "item.remove(\"pasta\")"
   ]
  },
  {
   "cell_type": "code",
   "execution_count": 15,
   "id": "360125ab",
   "metadata": {},
   "outputs": [
    {
     "data": {
      "text/plain": [
       "['bread', 'butter', 'cheese', 'veggies']"
      ]
     },
     "execution_count": 15,
     "metadata": {},
     "output_type": "execute_result"
    }
   ],
   "source": [
    "item"
   ]
  },
  {
   "cell_type": "code",
   "execution_count": 17,
   "id": "4a7d76f0",
   "metadata": {},
   "outputs": [
    {
     "data": {
      "text/plain": [
       "True"
      ]
     },
     "execution_count": 17,
     "metadata": {},
     "output_type": "execute_result"
    }
   ],
   "source": [
    "\"rice\" not in item"
   ]
  },
  {
   "cell_type": "code",
   "execution_count": 18,
   "id": "3325d093",
   "metadata": {},
   "outputs": [
    {
     "data": {
      "text/plain": [
       "True"
      ]
     },
     "execution_count": 18,
     "metadata": {},
     "output_type": "execute_result"
    }
   ],
   "source": [
    "\"bread\" in item"
   ]
  },
  {
   "cell_type": "code",
   "execution_count": 19,
   "id": "995b102c",
   "metadata": {},
   "outputs": [
    {
     "data": {
      "text/plain": [
       "[30, 34, 32, 44, 233]"
      ]
     },
     "execution_count": 19,
     "metadata": {},
     "output_type": "execute_result"
    }
   ],
   "source": [
    "expenses = [30,34,32,44,233]\n",
    "expenses"
   ]
  },
  {
   "cell_type": "code",
   "execution_count": 20,
   "id": "29c9d562",
   "metadata": {},
   "outputs": [],
   "source": [
    "expenses.sort()"
   ]
  },
  {
   "cell_type": "code",
   "execution_count": 21,
   "id": "d614b34b",
   "metadata": {},
   "outputs": [
    {
     "data": {
      "text/plain": [
       "[30, 32, 34, 44, 233]"
      ]
     },
     "execution_count": 21,
     "metadata": {},
     "output_type": "execute_result"
    }
   ],
   "source": [
    "expenses"
   ]
  },
  {
   "cell_type": "code",
   "execution_count": 30,
   "id": "df4c83e3",
   "metadata": {},
   "outputs": [
    {
     "data": {
      "text/plain": [
       "['zebra', 'spunal', 'bro']"
      ]
     },
     "execution_count": 30,
     "metadata": {},
     "output_type": "execute_result"
    }
   ],
   "source": [
    "my_list = [\"zebra\", \"bro\", \"spunal\"]\n",
    "my_list.sort(reverse=True)\n",
    "my_list"
   ]
  },
  {
   "cell_type": "code",
   "execution_count": 31,
   "id": "3225eafd",
   "metadata": {},
   "outputs": [],
   "source": [
    "food_items = [\"bread\", \"pasta\", \"fruits\"]\n",
    "bathroom_items = [\"shampoo\", \"soap\", \"cleaner\"]"
   ]
  },
  {
   "cell_type": "code",
   "execution_count": 32,
   "id": "3e57a857",
   "metadata": {},
   "outputs": [
    {
     "data": {
      "text/plain": [
       "['bread', 'pasta', 'fruits', 'shampoo', 'soap', 'cleaner']"
      ]
     },
     "execution_count": 32,
     "metadata": {},
     "output_type": "execute_result"
    }
   ],
   "source": [
    "all_items = food_items + bathroom_items\n",
    "all_items"
   ]
  },
  {
   "cell_type": "code",
   "execution_count": 33,
   "id": "2a93e9d3",
   "metadata": {},
   "outputs": [
    {
     "data": {
      "text/plain": [
       "6"
      ]
     },
     "execution_count": 33,
     "metadata": {},
     "output_type": "execute_result"
    }
   ],
   "source": [
    "len(all_items)"
   ]
  },
  {
   "cell_type": "code",
   "execution_count": 34,
   "id": "d8fcd346",
   "metadata": {},
   "outputs": [
    {
     "data": {
      "text/plain": [
       "['__add__',\n",
       " '__class__',\n",
       " '__class_getitem__',\n",
       " '__contains__',\n",
       " '__delattr__',\n",
       " '__delitem__',\n",
       " '__dir__',\n",
       " '__doc__',\n",
       " '__eq__',\n",
       " '__format__',\n",
       " '__ge__',\n",
       " '__getattribute__',\n",
       " '__getitem__',\n",
       " '__gt__',\n",
       " '__hash__',\n",
       " '__iadd__',\n",
       " '__imul__',\n",
       " '__init__',\n",
       " '__init_subclass__',\n",
       " '__iter__',\n",
       " '__le__',\n",
       " '__len__',\n",
       " '__lt__',\n",
       " '__mul__',\n",
       " '__ne__',\n",
       " '__new__',\n",
       " '__reduce__',\n",
       " '__reduce_ex__',\n",
       " '__repr__',\n",
       " '__reversed__',\n",
       " '__rmul__',\n",
       " '__setattr__',\n",
       " '__setitem__',\n",
       " '__sizeof__',\n",
       " '__str__',\n",
       " '__subclasshook__',\n",
       " 'append',\n",
       " 'clear',\n",
       " 'copy',\n",
       " 'count',\n",
       " 'extend',\n",
       " 'index',\n",
       " 'insert',\n",
       " 'pop',\n",
       " 'remove',\n",
       " 'reverse',\n",
       " 'sort']"
      ]
     },
     "execution_count": 34,
     "metadata": {},
     "output_type": "execute_result"
    }
   ],
   "source": [
    "dir(all_items)"
   ]
  },
  {
   "cell_type": "code",
   "execution_count": 36,
   "id": "6f5676de",
   "metadata": {},
   "outputs": [
    {
     "data": {
      "text/plain": [
       "['bread', 'butter', 'cheese', 'veggies']"
      ]
     },
     "execution_count": 36,
     "metadata": {},
     "output_type": "execute_result"
    }
   ],
   "source": [
    "item"
   ]
  },
  {
   "cell_type": "code",
   "execution_count": 37,
   "id": "d2d17860",
   "metadata": {},
   "outputs": [],
   "source": [
    "item.reverse()"
   ]
  },
  {
   "cell_type": "code",
   "execution_count": 38,
   "id": "55cf3002",
   "metadata": {},
   "outputs": [
    {
     "data": {
      "text/plain": [
       "['veggies', 'cheese', 'butter', 'bread']"
      ]
     },
     "execution_count": 38,
     "metadata": {},
     "output_type": "execute_result"
    }
   ],
   "source": [
    "item"
   ]
  },
  {
   "cell_type": "code",
   "execution_count": 39,
   "id": "e43f4ae5",
   "metadata": {},
   "outputs": [
    {
     "data": {
      "text/plain": [
       "['car', 3.4, True]"
      ]
     },
     "execution_count": 39,
     "metadata": {},
     "output_type": "execute_result"
    }
   ],
   "source": [
    "random = [\"car\", 3.4, True]\n",
    "random"
   ]
  },
  {
   "cell_type": "code",
   "execution_count": 40,
   "id": "8e07f996",
   "metadata": {},
   "outputs": [],
   "source": [
    "# In python lists are heterogenious, because it stores any type of varieble \n",
    "#but c++ and java are homogenous for sure"
   ]
  },
  {
   "cell_type": "code",
   "execution_count": 41,
   "id": "d0781f27",
   "metadata": {},
   "outputs": [],
   "source": [
    "movies = [\"Jurassic World\",\"Spider-man\",\"Titanic\",\"Avengers-Endgame\",\"Avatar\"]"
   ]
  },
  {
   "cell_type": "code",
   "execution_count": 42,
   "id": "f39f7a0d",
   "metadata": {},
   "outputs": [
    {
     "data": {
      "text/plain": [
       "['Jurassic World', 'Spider-man']"
      ]
     },
     "execution_count": 42,
     "metadata": {},
     "output_type": "execute_result"
    }
   ],
   "source": [
    "movies[:-3]"
   ]
  },
  {
   "cell_type": "code",
   "execution_count": 43,
   "id": "d29f1e08",
   "metadata": {},
   "outputs": [
    {
     "data": {
      "text/plain": [
       "['Titanic', 'Avengers-Endgame', 'Avatar']"
      ]
     },
     "execution_count": 43,
     "metadata": {},
     "output_type": "execute_result"
    }
   ],
   "source": [
    "movies[-3:]"
   ]
  },
  {
   "cell_type": "code",
   "execution_count": 44,
   "id": "11a53f2e",
   "metadata": {},
   "outputs": [
    {
     "data": {
      "text/plain": [
       "['Jurassic World', 'Spider-man']"
      ]
     },
     "execution_count": 44,
     "metadata": {},
     "output_type": "execute_result"
    }
   ],
   "source": [
    "movies[:2]"
   ]
  },
  {
   "cell_type": "code",
   "execution_count": 45,
   "id": "293d4300",
   "metadata": {},
   "outputs": [
    {
     "data": {
      "text/plain": [
       "['Titanic', 'Avengers-Endgame', 'Avatar']"
      ]
     },
     "execution_count": 45,
     "metadata": {},
     "output_type": "execute_result"
    }
   ],
   "source": [
    "movies[2:]"
   ]
  },
  {
   "cell_type": "code",
   "execution_count": 47,
   "id": "6ba904d2",
   "metadata": {},
   "outputs": [],
   "source": [
    "avengers  = [\"Iron Man\", \"Captain America\", \"Black Widow\", \"Hulk\", \"Thor\", \"Hawkeye\"]"
   ]
  },
  {
   "cell_type": "code",
   "execution_count": 49,
   "id": "35918e48",
   "metadata": {},
   "outputs": [
    {
     "data": {
      "text/plain": [
       "6"
      ]
     },
     "execution_count": 49,
     "metadata": {},
     "output_type": "execute_result"
    }
   ],
   "source": [
    "len(avengers)"
   ]
  },
  {
   "cell_type": "code",
   "execution_count": 50,
   "id": "aa9ed01f",
   "metadata": {},
   "outputs": [],
   "source": [
    "avengers.append(\"Spider-man\")"
   ]
  },
  {
   "cell_type": "code",
   "execution_count": 51,
   "id": "54086773",
   "metadata": {},
   "outputs": [
    {
     "data": {
      "text/plain": [
       "['Iron Man',\n",
       " 'Captain America',\n",
       " 'Black Widow',\n",
       " 'Hulk',\n",
       " 'Thor',\n",
       " 'Hawkeye',\n",
       " 'Spider-man']"
      ]
     },
     "execution_count": 51,
     "metadata": {},
     "output_type": "execute_result"
    }
   ],
   "source": [
    "avengers"
   ]
  },
  {
   "cell_type": "code",
   "execution_count": 52,
   "id": "cda1b9d9",
   "metadata": {},
   "outputs": [],
   "source": [
    "avengers.remove(\"Captain America\")"
   ]
  },
  {
   "cell_type": "code",
   "execution_count": 53,
   "id": "7d97da3d",
   "metadata": {},
   "outputs": [
    {
     "data": {
      "text/plain": [
       "['Iron Man', 'Black Widow', 'Hulk', 'Thor', 'Hawkeye', 'Spider-man']"
      ]
     },
     "execution_count": 53,
     "metadata": {},
     "output_type": "execute_result"
    }
   ],
   "source": [
    "avengers"
   ]
  },
  {
   "cell_type": "code",
   "execution_count": 58,
   "id": "89834684",
   "metadata": {},
   "outputs": [
    {
     "data": {
      "text/plain": [
       "['captain America',\n",
       " 'Iron Man',\n",
       " 'Black Widow',\n",
       " 'Hulk',\n",
       " 'Thor',\n",
       " 'Hawkeye',\n",
       " 'Spider-man']"
      ]
     },
     "execution_count": 58,
     "metadata": {},
     "output_type": "execute_result"
    }
   ],
   "source": [
    "avengers.insert(0,\"captain America\")\n",
    "avengers"
   ]
  },
  {
   "cell_type": "code",
   "execution_count": 59,
   "id": "3fd0d573",
   "metadata": {},
   "outputs": [
    {
     "data": {
      "text/plain": [
       "['captain America', 'Iron Man', 'Black Widow', 'Hulk', 'Thor', 'Spider-man']"
      ]
     },
     "execution_count": 59,
     "metadata": {},
     "output_type": "execute_result"
    }
   ],
   "source": [
    "avengers.remove(\"Hawkeye\")\n",
    "avengers"
   ]
  },
  {
   "cell_type": "code",
   "execution_count": 65,
   "id": "37040ad1",
   "metadata": {},
   "outputs": [
    {
     "data": {
      "text/plain": [
       "['Black Widow', 'Hulk', 'Hawkeye', 'Thor', 'Hawkeye']"
      ]
     },
     "execution_count": 65,
     "metadata": {},
     "output_type": "execute_result"
    }
   ],
   "source": [
    "avengers.insert(4,\"Hawkeye\")\n",
    "avengers"
   ]
  },
  {
   "cell_type": "code",
   "execution_count": 66,
   "id": "c6d675c5",
   "metadata": {},
   "outputs": [],
   "source": [
    "avengers  = [\"Iron Man\", \"Captain America\", \"Black Widow\", \"Hulk\", \"Thor\", \"Hawkeye\"]"
   ]
  },
  {
   "cell_type": "code",
   "execution_count": 67,
   "id": "a44c3dd6",
   "metadata": {},
   "outputs": [
    {
     "data": {
      "text/plain": [
       "['Iron Man',\n",
       " 'Captain America',\n",
       " 'Black Widow',\n",
       " 'Hulk',\n",
       " 'Thor',\n",
       " 'Hawkeye',\n",
       " 'Spider-man']"
      ]
     },
     "execution_count": 67,
     "metadata": {},
     "output_type": "execute_result"
    }
   ],
   "source": [
    "avengers.append(\"Spider-man\")\n",
    "avengers"
   ]
  },
  {
   "cell_type": "code",
   "execution_count": 68,
   "id": "ca0a7fef",
   "metadata": {},
   "outputs": [
    {
     "data": {
      "text/plain": [
       "'Iron Man'"
      ]
     },
     "execution_count": 68,
     "metadata": {},
     "output_type": "execute_result"
    }
   ],
   "source": [
    "avengers.pop(0)"
   ]
  },
  {
   "cell_type": "code",
   "execution_count": 69,
   "id": "c28b4abe",
   "metadata": {},
   "outputs": [
    {
     "data": {
      "text/plain": [
       "'Captain America'"
      ]
     },
     "execution_count": 69,
     "metadata": {},
     "output_type": "execute_result"
    }
   ],
   "source": [
    "avengers.pop(0)"
   ]
  },
  {
   "cell_type": "code",
   "execution_count": 70,
   "id": "024577e7",
   "metadata": {},
   "outputs": [
    {
     "data": {
      "text/plain": [
       "'Black Widow'"
      ]
     },
     "execution_count": 70,
     "metadata": {},
     "output_type": "execute_result"
    }
   ],
   "source": [
    "avengers.pop(0)"
   ]
  },
  {
   "cell_type": "code",
   "execution_count": 71,
   "id": "d303c0a2",
   "metadata": {},
   "outputs": [
    {
     "data": {
      "text/plain": [
       "'Hulk'"
      ]
     },
     "execution_count": 71,
     "metadata": {},
     "output_type": "execute_result"
    }
   ],
   "source": [
    "avengers.pop(0)"
   ]
  },
  {
   "cell_type": "code",
   "execution_count": 72,
   "id": "072fe903",
   "metadata": {},
   "outputs": [
    {
     "data": {
      "text/plain": [
       "'Thor'"
      ]
     },
     "execution_count": 72,
     "metadata": {},
     "output_type": "execute_result"
    }
   ],
   "source": [
    "avengers.pop(0)"
   ]
  },
  {
   "cell_type": "code",
   "execution_count": 73,
   "id": "b1962dd0",
   "metadata": {},
   "outputs": [
    {
     "data": {
      "text/plain": [
       "'Hawkeye'"
      ]
     },
     "execution_count": 73,
     "metadata": {},
     "output_type": "execute_result"
    }
   ],
   "source": [
    "avengers.pop(0)"
   ]
  },
  {
   "cell_type": "code",
   "execution_count": 74,
   "id": "b33ba4a2",
   "metadata": {},
   "outputs": [
    {
     "data": {
      "text/plain": [
       "['Spider-man']"
      ]
     },
     "execution_count": 74,
     "metadata": {},
     "output_type": "execute_result"
    }
   ],
   "source": [
    "avengers"
   ]
  },
  {
   "cell_type": "code",
   "execution_count": 75,
   "id": "60e2c4d4",
   "metadata": {},
   "outputs": [
    {
     "data": {
      "text/plain": [
       "['Doctor Strange', 'Vision', 'Wanda', 'Kate Bishop', 'Ant Man']"
      ]
     },
     "execution_count": 75,
     "metadata": {},
     "output_type": "execute_result"
    }
   ],
   "source": [
    "new_superheroes = ['Doctor Strange', 'Vision', 'Wanda', 'Kate Bishop', 'Ant Man']\n",
    "new_superheroes"
   ]
  },
  {
   "cell_type": "code",
   "execution_count": 76,
   "id": "ea674d14",
   "metadata": {},
   "outputs": [
    {
     "data": {
      "text/plain": [
       "['Spider-man', 'Doctor Strange', 'Vision', 'Wanda', 'Kate Bishop', 'Ant Man']"
      ]
     },
     "execution_count": 76,
     "metadata": {},
     "output_type": "execute_result"
    }
   ],
   "source": [
    "avengers.extend(new_superheroes)\n",
    "avengers"
   ]
  },
  {
   "cell_type": "code",
   "execution_count": 77,
   "id": "8d42d22a",
   "metadata": {},
   "outputs": [
    {
     "data": {
      "text/plain": [
       "6"
      ]
     },
     "execution_count": 77,
     "metadata": {},
     "output_type": "execute_result"
    }
   ],
   "source": [
    "len(avengers)"
   ]
  },
  {
   "cell_type": "code",
   "execution_count": 78,
   "id": "f769ca8b",
   "metadata": {},
   "outputs": [],
   "source": [
    "avengers.sort()"
   ]
  },
  {
   "cell_type": "code",
   "execution_count": 79,
   "id": "18478d2d",
   "metadata": {},
   "outputs": [
    {
     "data": {
      "text/plain": [
       "['Ant Man', 'Doctor Strange', 'Kate Bishop', 'Spider-man', 'Vision', 'Wanda']"
      ]
     },
     "execution_count": 79,
     "metadata": {},
     "output_type": "execute_result"
    }
   ],
   "source": [
    "avengers"
   ]
  },
  {
   "cell_type": "code",
   "execution_count": 80,
   "id": "f4e4b078",
   "metadata": {},
   "outputs": [],
   "source": [
    "#Endddddddddddddddddddddddddddddddddddddddddddddddddddddddddddddddddddddddddddd"
   ]
  },
  {
   "cell_type": "code",
   "execution_count": null,
   "id": "9ce2a34e",
   "metadata": {},
   "outputs": [],
   "source": []
  }
 ],
 "metadata": {
  "kernelspec": {
   "display_name": "Python 3 (ipykernel)",
   "language": "python",
   "name": "python3"
  },
  "language_info": {
   "codemirror_mode": {
    "name": "ipython",
    "version": 3
   },
   "file_extension": ".py",
   "mimetype": "text/x-python",
   "name": "python",
   "nbconvert_exporter": "python",
   "pygments_lexer": "ipython3",
   "version": "3.10.6"
  }
 },
 "nbformat": 4,
 "nbformat_minor": 5
}

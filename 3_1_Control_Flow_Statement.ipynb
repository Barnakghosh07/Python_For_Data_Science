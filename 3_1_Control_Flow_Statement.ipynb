{
 "cells": [
  {
   "cell_type": "code",
   "execution_count": 5,
   "id": "5f3efc94",
   "metadata": {},
   "outputs": [],
   "source": [
    "#Control Flow Statement "
   ]
  },
  {
   "cell_type": "code",
   "execution_count": 7,
   "id": "1e686b76",
   "metadata": {},
   "outputs": [],
   "source": [
    "#selection/conditional statement"
   ]
  },
  {
   "cell_type": "code",
   "execution_count": 11,
   "id": "8dbba17f",
   "metadata": {},
   "outputs": [
    {
     "name": "stdout",
     "output_type": "stream",
     "text": [
      "Enter a number: 4\n",
      "Barnak\n"
     ]
    }
   ],
   "source": [
    "a=int(input(\"Enter a number: \"))\n",
    "if a%2==0:\n",
    "    print(\"Barnak\")"
   ]
  },
  {
   "cell_type": "code",
   "execution_count": 16,
   "id": "abb360a2",
   "metadata": {},
   "outputs": [
    {
     "name": "stdout",
     "output_type": "stream",
     "text": [
      "Enter a number: 5\n",
      "Odd\n"
     ]
    }
   ],
   "source": [
    "a=int(input(\"Enter a number: \"))\n",
    "if a%2==0: \n",
    "    print(\"Even\")\n",
    "else : \n",
    "    print(\"Odd\")"
   ]
  },
  {
   "cell_type": "code",
   "execution_count": 21,
   "id": "e9ef254c",
   "metadata": {},
   "outputs": [
    {
     "name": "stdout",
     "output_type": "stream",
     "text": [
      "enter your year as a nymber: 7\n",
      "Ram Bharose\n"
     ]
    }
   ],
   "source": [
    "Year=int(input(\"enter your year as a nymber: \"))\n",
    "if Year==1: \n",
    "    print(\"Enjoy Hard\")\n",
    "elif Year==2: \n",
    "    print(\"Think little\")\n",
    "elif Year==3: \n",
    "    print(\"No time to think work\")\n",
    "elif Year==4: \n",
    "    print(\"Ab kya kare\")\n",
    "else: \n",
    "    print(\"Ram Bharose\")"
   ]
  },
  {
   "cell_type": "code",
   "execution_count": 22,
   "id": "3e616f21",
   "metadata": {},
   "outputs": [
    {
     "name": "stdout",
     "output_type": "stream",
     "text": [
      "enter your year as a nymber: 4\n",
      "Ab kya kare\n"
     ]
    }
   ],
   "source": [
    "Year=int(input(\"enter your year as a nymber: \"))\n",
    "if Year==1: \n",
    "    print(\"Enjoy Hard\")\n",
    "elif Year==2: \n",
    "    print(\"Think little\")\n",
    "elif Year==3: \n",
    "    print(\"No time to think work\")\n",
    "elif Year==4: \n",
    "    print(\"Ab kya kare\")\n",
    "else: \n",
    "    print(\"Ram Bharose\")"
   ]
  },
  {
   "cell_type": "code",
   "execution_count": 23,
   "id": "6014d7bf",
   "metadata": {},
   "outputs": [],
   "source": [
    "#else is always optional: No nessessary \n",
    "#if is only fine: Valid"
   ]
  },
  {
   "cell_type": "code",
   "execution_count": 33,
   "id": "1fee7dfb",
   "metadata": {},
   "outputs": [
    {
     "name": "stdout",
     "output_type": "stream",
     "text": [
      "enter the first number: 334\n",
      "enter the second number: 2323\n",
      "enter the third number: 144\n",
      "The largest number is:  334 2323 144 is 2323\n"
     ]
    }
   ],
   "source": [
    "a=int(input(\"enter the first number: \"))\n",
    "b=int(input(\"enter the second number: \"))\n",
    "c=int(input(\"enter the third number: \"))\n",
    "if a>b and a>c:\n",
    "    print(\"The largest number is: \",a,b,c, \"is\", a)\n",
    "else:\n",
    "    if b>c:\n",
    "        print(\"The largest number is: \",a,b,c, \"is\", b)\n",
    "    else: \n",
    "        print(\"The largest number is: \",a,b,c, \"is\", c)"
   ]
  },
  {
   "cell_type": "code",
   "execution_count": 34,
   "id": "0186a4ff",
   "metadata": {},
   "outputs": [],
   "source": [
    "#Iterative Statements: To Repeat some codes multiple times\n",
    "#Two type==> for loop, while loop"
   ]
  },
  {
   "cell_type": "code",
   "execution_count": 35,
   "id": "cd1e3434",
   "metadata": {},
   "outputs": [],
   "source": [
    "#for loop\n",
    "#if we want to execute some codes for every element in some sequence. sequence==> list,tuple,set,string etc"
   ]
  },
  {
   "cell_type": "code",
   "execution_count": 36,
   "id": "c5adc500",
   "metadata": {},
   "outputs": [
    {
     "name": "stdout",
     "output_type": "stream",
     "text": [
      "b\n",
      "a\n",
      "r\n",
      "n\n",
      "a\n",
      "k\n"
     ]
    }
   ],
   "source": [
    "for x in \"barnak\":\n",
    "    print(x)"
   ]
  },
  {
   "cell_type": "code",
   "execution_count": 47,
   "id": "082c84ec",
   "metadata": {},
   "outputs": [
    {
     "name": "stdout",
     "output_type": "stream",
     "text": [
      "The element at index: 0 is b\n",
      "The element at index: 1 is a\n",
      "The element at index: 2 is r\n",
      "The element at index: 3 is n\n",
      "The element at index: 4 is a\n",
      "The element at index: 5 is k\n"
     ]
    }
   ],
   "source": [
    "i=0\n",
    "for x in \"barnak\":\n",
    "    print(\"The element at index:\",i,\"is\",x)\n",
    "    i=i+1\n"
   ]
  },
  {
   "cell_type": "code",
   "execution_count": 48,
   "id": "75e4e8dd",
   "metadata": {},
   "outputs": [
    {
     "name": "stdout",
     "output_type": "stream",
     "text": [
      "barnak\n",
      "barnak\n",
      "barnak\n",
      "barnak\n",
      "barnak\n"
     ]
    }
   ],
   "source": [
    "for i in range(5):\n",
    "    print(\"barnak\")"
   ]
  },
  {
   "cell_type": "code",
   "execution_count": 49,
   "id": "75f6e477",
   "metadata": {},
   "outputs": [
    {
     "name": "stdout",
     "output_type": "stream",
     "text": [
      "barnak\n",
      "barnak\n",
      "barnak\n",
      "barnak\n",
      "barnak\n"
     ]
    }
   ],
   "source": [
    "for i in range(1,6): #start => end=>-1\n",
    "    print(\"barnak\")"
   ]
  },
  {
   "cell_type": "code",
   "execution_count": 50,
   "id": "7a6d231c",
   "metadata": {},
   "outputs": [
    {
     "name": "stdout",
     "output_type": "stream",
     "text": [
      "2\n",
      "4\n",
      "6\n",
      "8\n",
      "10\n",
      "12\n",
      "14\n",
      "16\n",
      "18\n",
      "20\n",
      "22\n",
      "24\n",
      "26\n",
      "28\n",
      "30\n",
      "32\n",
      "34\n",
      "36\n",
      "38\n",
      "40\n",
      "42\n",
      "44\n",
      "46\n",
      "48\n",
      "50\n",
      "52\n",
      "54\n",
      "56\n",
      "58\n",
      "60\n",
      "62\n",
      "64\n",
      "66\n",
      "68\n",
      "70\n",
      "72\n",
      "74\n",
      "76\n",
      "78\n",
      "80\n",
      "82\n",
      "84\n",
      "86\n",
      "88\n",
      "90\n",
      "92\n",
      "94\n",
      "96\n",
      "98\n",
      "100\n"
     ]
    }
   ],
   "source": [
    "for i in range(1,101):\n",
    "    if(i%2==0):\n",
    "        print(i)"
   ]
  },
  {
   "cell_type": "code",
   "execution_count": 52,
   "id": "11377d53",
   "metadata": {},
   "outputs": [],
   "source": [
    "for i in  range(5,1):\n",
    "    print(i)"
   ]
  },
  {
   "cell_type": "code",
   "execution_count": 53,
   "id": "5a2cfe60",
   "metadata": {},
   "outputs": [
    {
     "name": "stdout",
     "output_type": "stream",
     "text": [
      "5\n",
      "4\n",
      "3\n",
      "2\n"
     ]
    }
   ],
   "source": [
    "for i in  range(5,1,-1):\n",
    "    print(i)"
   ]
  },
  {
   "cell_type": "code",
   "execution_count": 55,
   "id": "6c39558b",
   "metadata": {},
   "outputs": [],
   "source": [
    "#first product of first 5 natural no. using loop (1,2,3,4,5)"
   ]
  },
  {
   "cell_type": "code",
   "execution_count": 67,
   "id": "29c3b768",
   "metadata": {},
   "outputs": [
    {
     "name": "stdout",
     "output_type": "stream",
     "text": [
      "3628800\n"
     ]
    }
   ],
   "source": [
    "prod=1\n",
    "for i in range(1,11):\n",
    "    prod=prod * i\n",
    "print(prod)"
   ]
  },
  {
   "cell_type": "code",
   "execution_count": 68,
   "id": "3aa77428",
   "metadata": {},
   "outputs": [
    {
     "name": "stdout",
     "output_type": "stream",
     "text": [
      "enter any number5\n",
      "120\n"
     ]
    }
   ],
   "source": [
    "n=int(input(\"enter any number\"))\n",
    "prod=1\n",
    "for i in range(1,n+1):\n",
    "    prod=prod * i\n",
    "print(prod)\n"
   ]
  },
  {
   "cell_type": "code",
   "execution_count": 70,
   "id": "9ca9e8cc",
   "metadata": {},
   "outputs": [],
   "source": [
    "#sum of list of integer."
   ]
  },
  {
   "cell_type": "code",
   "execution_count": 73,
   "id": "9666ec48",
   "metadata": {},
   "outputs": [
    {
     "name": "stdout",
     "output_type": "stream",
     "text": [
      "Th sum of all elements is :  24\n"
     ]
    }
   ],
   "source": [
    "l=[2,3,4,6,9]\n",
    "sum1=0\n",
    "for x in l:\n",
    "    sum1=sum1+x\n",
    "print(\"Th sum of all elements is : \", sum1)"
   ]
  },
  {
   "cell_type": "code",
   "execution_count": 74,
   "id": "29914efe",
   "metadata": {},
   "outputs": [
    {
     "name": "stdout",
     "output_type": "stream",
     "text": [
      "enter a lst: [2,3,4,5,6]\n",
      "20\n"
     ]
    }
   ],
   "source": [
    "l=eval(input(\"enter a lst: \"))\n",
    "sum1=0\n",
    "for x in l:\n",
    "    sum1=sum1+x\n",
    "print(sum1)"
   ]
  },
  {
   "cell_type": "code",
   "execution_count": 75,
   "id": "9ef90d93",
   "metadata": {},
   "outputs": [
    {
     "name": "stdout",
     "output_type": "stream",
     "text": [
      "enter{1,2,3,4}\n",
      "<class 'set'>\n"
     ]
    }
   ],
   "source": [
    "a=eval(input(\"enter\"))\n",
    "print(type(a))"
   ]
  },
  {
   "cell_type": "code",
   "execution_count": 76,
   "id": "38b47f07",
   "metadata": {},
   "outputs": [],
   "source": [
    "#hw\n",
    "#prime number \n",
    "#sum of all factors of a number "
   ]
  },
  {
   "cell_type": "code",
   "execution_count": null,
   "id": "a3d3c019",
   "metadata": {},
   "outputs": [],
   "source": []
  }
 ],
 "metadata": {
  "kernelspec": {
   "display_name": "Python 3 (ipykernel)",
   "language": "python",
   "name": "python3"
  },
  "language_info": {
   "codemirror_mode": {
    "name": "ipython",
    "version": 3
   },
   "file_extension": ".py",
   "mimetype": "text/x-python",
   "name": "python",
   "nbconvert_exporter": "python",
   "pygments_lexer": "ipython3",
   "version": "3.10.6"
  }
 },
 "nbformat": 4,
 "nbformat_minor": 5
}

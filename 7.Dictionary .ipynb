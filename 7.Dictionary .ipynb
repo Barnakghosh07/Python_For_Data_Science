{
 "cells": [
  {
   "cell_type": "code",
   "execution_count": 1,
   "id": "13a30aa0",
   "metadata": {},
   "outputs": [],
   "source": [
    "#Dictionary ===> a collection of key value pair. Key should be unique."
   ]
  },
  {
   "cell_type": "code",
   "execution_count": 9,
   "id": "bb6e4e51",
   "metadata": {},
   "outputs": [
    {
     "data": {
      "text/plain": [
       "{}"
      ]
     },
     "execution_count": 9,
     "metadata": {},
     "output_type": "execute_result"
    }
   ],
   "source": [
    "#empty dict\n",
    "d={}\n",
    "d"
   ]
  },
  {
   "cell_type": "code",
   "execution_count": 10,
   "id": "03b8769a",
   "metadata": {},
   "outputs": [
    {
     "name": "stdout",
     "output_type": "stream",
     "text": [
      "{1: 'barnak', 2: 'amit'}\n"
     ]
    }
   ],
   "source": [
    "d={1:'barnak', 2:'amit'}\n",
    "print(d)"
   ]
  },
  {
   "cell_type": "code",
   "execution_count": 11,
   "id": "5eff95a5",
   "metadata": {},
   "outputs": [
    {
     "name": "stdout",
     "output_type": "stream",
     "text": [
      "<class 'dict'>\n"
     ]
    }
   ],
   "source": [
    "d={\"barnak\":3}\n",
    "d\n",
    "print(type(d))"
   ]
  },
  {
   "cell_type": "code",
   "execution_count": 12,
   "id": "7caab5b6",
   "metadata": {},
   "outputs": [
    {
     "name": "stdout",
     "output_type": "stream",
     "text": [
      "<class 'dict'>\n"
     ]
    }
   ],
   "source": [
    "d={}\n",
    "print(type(d))"
   ]
  },
  {
   "cell_type": "code",
   "execution_count": 13,
   "id": "d04447f7",
   "metadata": {},
   "outputs": [
    {
     "data": {
      "text/plain": [
       "dict"
      ]
     },
     "execution_count": 13,
     "metadata": {},
     "output_type": "execute_result"
    }
   ],
   "source": [
    "d={1:'barnak', 2:'amit',3:'anamike'}\n",
    "type(d)"
   ]
  },
  {
   "cell_type": "code",
   "execution_count": 14,
   "id": "c1bb50df",
   "metadata": {},
   "outputs": [
    {
     "data": {
      "text/plain": [
       "{1: 'barnak', 2: 'amit', 3: 'anamike'}"
      ]
     },
     "execution_count": 14,
     "metadata": {},
     "output_type": "execute_result"
    }
   ],
   "source": [
    "d"
   ]
  },
  {
   "cell_type": "code",
   "execution_count": 15,
   "id": "9d9574da",
   "metadata": {},
   "outputs": [
    {
     "name": "stdout",
     "output_type": "stream",
     "text": [
      "{1: 'barnak', 2: 'amit', 3: 'anamike'}\n"
     ]
    }
   ],
   "source": [
    "print(d)"
   ]
  },
  {
   "cell_type": "code",
   "execution_count": 17,
   "id": "0821dac8",
   "metadata": {},
   "outputs": [
    {
     "data": {
      "text/plain": [
       "{1: 'barnak', 2: 'barnllk', 3: 'Neeraj'}"
      ]
     },
     "execution_count": 17,
     "metadata": {},
     "output_type": "execute_result"
    }
   ],
   "source": [
    "(1,\"barnak\") #represent pair of values\n",
    "(2,\"barnllk\") #represent pair of values\n",
    "(3,\"Neeraj\") #pair of values\n",
    "l=[(1,\"barnak\"), (2,\"barnllk\"), (3,\"Neeraj\")]\n",
    "d=dict(l)\n",
    "d\n"
   ]
  },
  {
   "cell_type": "code",
   "execution_count": 18,
   "id": "cc241707",
   "metadata": {},
   "outputs": [
    {
     "data": {
      "text/plain": [
       "{'barnak': None, 12: None, 30.5: None}"
      ]
     },
     "execution_count": 18,
     "metadata": {},
     "output_type": "execute_result"
    }
   ],
   "source": [
    "#creating a dictionary by providing list of keys\n",
    "d=dict.fromkeys([\"barnak\",12,30.5]) #i am providing 3 keys\n",
    "#where are values of these keys ====>\n",
    "d"
   ]
  },
  {
   "cell_type": "code",
   "execution_count": 19,
   "id": "a535f885",
   "metadata": {},
   "outputs": [
    {
     "data": {
      "text/plain": [
       "{'barnak': 0, 12: 0, 30.5: 0}"
      ]
     },
     "execution_count": 19,
     "metadata": {},
     "output_type": "execute_result"
    }
   ],
   "source": [
    "d=dict.fromkeys([\"barnak\",12,30.5], 0 ) #we are providing value defualt value 0\n",
    "d"
   ]
  },
  {
   "cell_type": "code",
   "execution_count": 20,
   "id": "18c76481",
   "metadata": {},
   "outputs": [],
   "source": [
    "d={1:2,12.3:4,\"barnak\":[1,2,3,4,\"neereaj\"],\"neeraj\":{1:34}}"
   ]
  },
  {
   "cell_type": "code",
   "execution_count": 21,
   "id": "cb3552e4",
   "metadata": {},
   "outputs": [
    {
     "data": {
      "text/plain": [
       "{1: 2, 12.3: 4, 'barnak': [1, 2, 3, 4, 'neereaj'], 'neeraj': {1: 34}}"
      ]
     },
     "execution_count": 21,
     "metadata": {},
     "output_type": "execute_result"
    }
   ],
   "source": [
    "d"
   ]
  },
  {
   "cell_type": "code",
   "execution_count": 29,
   "id": "2eb42418",
   "metadata": {},
   "outputs": [
    {
     "ename": "TypeError",
     "evalue": "'dict' object is not callable",
     "output_type": "error",
     "traceback": [
      "\u001b[1;31m---------------------------------------------------------------------------\u001b[0m",
      "\u001b[1;31mTypeError\u001b[0m                                 Traceback (most recent call last)",
      "Cell \u001b[1;32mIn[29], line 2\u001b[0m\n\u001b[0;32m      1\u001b[0m l\u001b[38;5;241m=\u001b[39m[(\u001b[38;5;241m1\u001b[39m,\u001b[38;5;124m\"\u001b[39m\u001b[38;5;124mbarnak\u001b[39m\u001b[38;5;124m\"\u001b[39m), (\u001b[38;5;241m2\u001b[39m,\u001b[38;5;124m\"\u001b[39m\u001b[38;5;124mbarnllk\u001b[39m\u001b[38;5;124m\"\u001b[39m), (\u001b[38;5;241m3\u001b[39m,\u001b[38;5;124m\"\u001b[39m\u001b[38;5;124mbarnakww\u001b[39m\u001b[38;5;124m\"\u001b[39m)]\n\u001b[1;32m----> 2\u001b[0m d\u001b[38;5;241m=\u001b[39m\u001b[38;5;28;43mdict\u001b[39;49m\u001b[43m(\u001b[49m\u001b[43ml\u001b[49m\u001b[43m)\u001b[49m\n",
      "\u001b[1;31mTypeError\u001b[0m: 'dict' object is not callable"
     ]
    }
   ],
   "source": [
    "l=[(1,\"barnak\"), (2,\"barnllk\"), (3,\"barnakww\")]\n",
    "d=dict(l)\n"
   ]
  },
  {
   "cell_type": "code",
   "execution_count": 30,
   "id": "9cc1d53c",
   "metadata": {},
   "outputs": [
    {
     "data": {
      "text/plain": [
       "2"
      ]
     },
     "execution_count": 30,
     "metadata": {},
     "output_type": "execute_result"
    }
   ],
   "source": [
    "#accessing elements\n",
    "d={1:2,12.3:4,\"barnak\":[1,2,3,4,\"neereaj\"],\"neeraj\":{1:34}}\n",
    "d[1] #retrieve value correspoding to key 1"
   ]
  },
  {
   "cell_type": "code",
   "execution_count": 31,
   "id": "073c1b2c",
   "metadata": {},
   "outputs": [
    {
     "data": {
      "text/plain": [
       "4"
      ]
     },
     "execution_count": 31,
     "metadata": {},
     "output_type": "execute_result"
    }
   ],
   "source": [
    "d[12.3]"
   ]
  },
  {
   "cell_type": "code",
   "execution_count": 32,
   "id": "bebd96da",
   "metadata": {},
   "outputs": [
    {
     "data": {
      "text/plain": [
       "[1, 2, 3, 4, 'neereaj']"
      ]
     },
     "execution_count": 32,
     "metadata": {},
     "output_type": "execute_result"
    }
   ],
   "source": [
    "d[\"barnak\"]"
   ]
  },
  {
   "cell_type": "code",
   "execution_count": 33,
   "id": "55d3628f",
   "metadata": {},
   "outputs": [
    {
     "ename": "KeyError",
     "evalue": "100",
     "output_type": "error",
     "traceback": [
      "\u001b[1;31m---------------------------------------------------------------------------\u001b[0m",
      "\u001b[1;31mKeyError\u001b[0m                                  Traceback (most recent call last)",
      "Cell \u001b[1;32mIn[33], line 1\u001b[0m\n\u001b[1;32m----> 1\u001b[0m \u001b[43md\u001b[49m\u001b[43m[\u001b[49m\u001b[38;5;241;43m100\u001b[39;49m\u001b[43m]\u001b[49m\n",
      "\u001b[1;31mKeyError\u001b[0m: 100"
     ]
    }
   ],
   "source": [
    "d[100]"
   ]
  },
  {
   "cell_type": "code",
   "execution_count": 34,
   "id": "10295ac2",
   "metadata": {},
   "outputs": [
    {
     "data": {
      "text/plain": [
       "{1: 2, 12.3: 4, 'barnak': [1, 2, 3, 4, 'neereaj'], 'neeraj': {1: 34}}"
      ]
     },
     "execution_count": 34,
     "metadata": {},
     "output_type": "execute_result"
    }
   ],
   "source": [
    "#another way to access elements\n",
    "d"
   ]
  },
  {
   "cell_type": "code",
   "execution_count": 35,
   "id": "a6c36562",
   "metadata": {},
   "outputs": [
    {
     "data": {
      "text/plain": [
       "2"
      ]
     },
     "execution_count": 35,
     "metadata": {},
     "output_type": "execute_result"
    }
   ],
   "source": [
    "d.get(1)"
   ]
  },
  {
   "cell_type": "code",
   "execution_count": 36,
   "id": "dce6082e",
   "metadata": {},
   "outputs": [
    {
     "data": {
      "text/plain": [
       "[1, 2, 3, 4, 'neereaj']"
      ]
     },
     "execution_count": 36,
     "metadata": {},
     "output_type": "execute_result"
    }
   ],
   "source": [
    "d.get(\"barnak\")"
   ]
  },
  {
   "cell_type": "code",
   "execution_count": 37,
   "id": "347e1510",
   "metadata": {},
   "outputs": [],
   "source": [
    "d.get(100) #no errors but it returns None\n"
   ]
  },
  {
   "cell_type": "code",
   "execution_count": 38,
   "id": "b4566ad3",
   "metadata": {},
   "outputs": [
    {
     "name": "stdout",
     "output_type": "stream",
     "text": [
      "None\n"
     ]
    }
   ],
   "source": [
    "print(d.get(100))"
   ]
  },
  {
   "cell_type": "code",
   "execution_count": 39,
   "id": "d809f5b4",
   "metadata": {},
   "outputs": [
    {
     "name": "stdout",
     "output_type": "stream",
     "text": [
      "0\n"
     ]
    }
   ],
   "source": [
    "print(d.get(100,0)) #if 100 as a key is present it will return thr value for 100 \n",
    "#if 100 as a key is not present it will return o"
   ]
  },
  {
   "cell_type": "code",
   "execution_count": 40,
   "id": "610947af",
   "metadata": {},
   "outputs": [
    {
     "data": {
      "text/plain": [
       "{1: 2, 12.3: 4, 'barnak': [1, 2, 3, 4, 'neereaj'], 'neeraj': {1: 34}}"
      ]
     },
     "execution_count": 40,
     "metadata": {},
     "output_type": "execute_result"
    }
   ],
   "source": [
    "d"
   ]
  },
  {
   "cell_type": "code",
   "execution_count": 41,
   "id": "19f03eda",
   "metadata": {},
   "outputs": [
    {
     "data": {
      "text/plain": [
       "dict_keys([1, 12.3, 'barnak', 'neeraj'])"
      ]
     },
     "execution_count": 41,
     "metadata": {},
     "output_type": "execute_result"
    }
   ],
   "source": [
    "d.keys()"
   ]
  },
  {
   "cell_type": "code",
   "execution_count": 42,
   "id": "e95385b1",
   "metadata": {},
   "outputs": [
    {
     "data": {
      "text/plain": [
       "dict_keys"
      ]
     },
     "execution_count": 42,
     "metadata": {},
     "output_type": "execute_result"
    }
   ],
   "source": [
    "type(d.keys())"
   ]
  },
  {
   "cell_type": "code",
   "execution_count": 43,
   "id": "d3a955b0",
   "metadata": {},
   "outputs": [
    {
     "data": {
      "text/plain": [
       "dict_values([2, 4, [1, 2, 3, 4, 'neereaj'], {1: 34}])"
      ]
     },
     "execution_count": 43,
     "metadata": {},
     "output_type": "execute_result"
    }
   ],
   "source": [
    "d.values()"
   ]
  },
  {
   "cell_type": "code",
   "execution_count": 44,
   "id": "560944a1",
   "metadata": {},
   "outputs": [
    {
     "data": {
      "text/plain": [
       "dict_values(['pankaj', 'pankaj', 'amit'])"
      ]
     },
     "execution_count": 44,
     "metadata": {},
     "output_type": "execute_result"
    }
   ],
   "source": [
    "d={1:'pankaj', 2:'pankaj',3:'amit'}\n",
    "d.values()"
   ]
  },
  {
   "cell_type": "code",
   "execution_count": 46,
   "id": "daef91f6",
   "metadata": {},
   "outputs": [
    {
     "data": {
      "text/plain": [
       "dict_items([(1, 'pankaj'), (2, 'pankaj'), (3, 'amit')])"
      ]
     },
     "execution_count": 46,
     "metadata": {},
     "output_type": "execute_result"
    }
   ],
   "source": [
    "d.items()"
   ]
  },
  {
   "cell_type": "code",
   "execution_count": 47,
   "id": "f91d2a99",
   "metadata": {},
   "outputs": [
    {
     "name": "stdout",
     "output_type": "stream",
     "text": [
      "1\n",
      "2\n",
      "3\n"
     ]
    }
   ],
   "source": [
    "#how to iterate on dict\n",
    "for x in d: #x==>iterating on keys\n",
    "    print(x)"
   ]
  },
  {
   "cell_type": "code",
   "execution_count": 48,
   "id": "7838460c",
   "metadata": {},
   "outputs": [
    {
     "name": "stdout",
     "output_type": "stream",
     "text": [
      "pankaj\n",
      "pankaj\n",
      "amit\n"
     ]
    }
   ],
   "source": [
    "for x in d: #x==>iterating on keys\n",
    "    print(d[x]) #what is d[x]==>values"
   ]
  },
  {
   "cell_type": "code",
   "execution_count": 49,
   "id": "169cee1f",
   "metadata": {},
   "outputs": [
    {
     "name": "stdout",
     "output_type": "stream",
     "text": [
      "1 pankaj\n",
      "2 pankaj\n",
      "3 amit\n"
     ]
    }
   ],
   "source": [
    "for x in d: #x==>iterating on keys\n",
    "    print(x,d[x]) #what is d[x]==>values"
   ]
  },
  {
   "cell_type": "code",
   "execution_count": 53,
   "id": "52bd629e",
   "metadata": {},
   "outputs": [
    {
     "ename": "SyntaxError",
     "evalue": "invalid syntax (846240204.py, line 1)",
     "output_type": "error",
     "traceback": [
      "\u001b[1;36m  Cell \u001b[1;32mIn[53], line 1\u001b[1;36m\u001b[0m\n\u001b[1;33m    a{}\u001b[0m\n\u001b[1;37m     ^\u001b[0m\n\u001b[1;31mSyntaxError\u001b[0m\u001b[1;31m:\u001b[0m invalid syntax\n"
     ]
    }
   ],
   "source": [
    "a{}\n",
    "a"
   ]
  },
  {
   "cell_type": "code",
   "execution_count": 64,
   "id": "da975e3e",
   "metadata": {},
   "outputs": [
    {
     "data": {
      "text/plain": [
       "{1: {'barnak'}, 2: 'barnak', 3: 'neeraj', 4: 34.4}"
      ]
     },
     "execution_count": 64,
     "metadata": {},
     "output_type": "execute_result"
    }
   ],
   "source": [
    "a[1]={'barnak'}\n",
    "a"
   ]
  },
  {
   "cell_type": "code",
   "execution_count": 62,
   "id": "ce29b170",
   "metadata": {},
   "outputs": [
    {
     "data": {
      "text/plain": [
       "{1: 2, 3: 'neeraj', 5: 99, 2: 'barnak', 4: 34.4}"
      ]
     },
     "execution_count": 62,
     "metadata": {},
     "output_type": "execute_result"
    }
   ],
   "source": [
    "a={1:2,2:\"barnak\",3:\"neeraj\",4:34.4}\n",
    "b={1:\"arun\",3:89,5:99}\n",
    "b.update(a)\n",
    "b"
   ]
  },
  {
   "cell_type": "code",
   "execution_count": 63,
   "id": "06452b2e",
   "metadata": {},
   "outputs": [],
   "source": [
    "#find the frequeny in a string "
   ]
  },
  {
   "cell_type": "code",
   "execution_count": 66,
   "id": "0c4218e2",
   "metadata": {},
   "outputs": [
    {
     "name": "stdout",
     "output_type": "stream",
     "text": [
      "enter a stringbarnak is barnak\n",
      "{'barnak': 2, 'is': 1}\n"
     ]
    }
   ],
   "source": [
    "s=input(\"enter a string\")\n",
    "wordskilist=s.split()\n",
    "d={}\n",
    "for word in wordskilist : \n",
    "    if word in d:\n",
    "        d[word]=d[word]+1\n",
    "    else:\n",
    "        d[word]=1\n",
    "print(d)"
   ]
  },
  {
   "cell_type": "code",
   "execution_count": 67,
   "id": "5bed3223",
   "metadata": {},
   "outputs": [
    {
     "name": "stdout",
     "output_type": "stream",
     "text": [
      "enter a stringbarnak is barnak\n",
      "{'barnak': 2, 'is': 1}\n"
     ]
    }
   ],
   "source": [
    "s=input(\"enter a string\")\n",
    "wordskilist=s.split()\n",
    "d={}\n",
    "for word in wordskilist : \n",
    "    d[word]=d.get(word,0) + 1\n",
    "print(d)"
   ]
  },
  {
   "cell_type": "code",
   "execution_count": 68,
   "id": "da6616e9",
   "metadata": {},
   "outputs": [],
   "source": [
    "#duplicates key not allowed\n",
    "#it is not mendatory all keys are of same type\n",
    "#it is not mendatory all values are of same order\n",
    "#insertaion order is not preserved \n",
    "#mutable\n",
    "#dynamic===> add, remove\n",
    "#indexing and slicing concept is not there in a case of dict \n"
   ]
  },
  {
   "cell_type": "code",
   "execution_count": 72,
   "id": "9208db79",
   "metadata": {},
   "outputs": [
    {
     "name": "stdout",
     "output_type": "stream",
     "text": [
      "True\n"
     ]
    }
   ],
   "source": [
    "d={1:2,3:4}\n",
    "print(1 in d)"
   ]
  },
  {
   "cell_type": "code",
   "execution_count": 73,
   "id": "e5612ce4",
   "metadata": {},
   "outputs": [
    {
     "data": {
      "text/plain": [
       "{2: 'barnak'}"
      ]
     },
     "execution_count": 73,
     "metadata": {},
     "output_type": "execute_result"
    }
   ],
   "source": [
    "d={1:\"amit\", 2:\"barnak\"}\n",
    "del d[1]\n",
    "d"
   ]
  },
  {
   "cell_type": "code",
   "execution_count": 74,
   "id": "4f124ce7",
   "metadata": {},
   "outputs": [
    {
     "ename": "KeyError",
     "evalue": "100",
     "output_type": "error",
     "traceback": [
      "\u001b[1;31m---------------------------------------------------------------------------\u001b[0m",
      "\u001b[1;31mKeyError\u001b[0m                                  Traceback (most recent call last)",
      "Cell \u001b[1;32mIn[74], line 1\u001b[0m\n\u001b[1;32m----> 1\u001b[0m \u001b[38;5;28;01mdel\u001b[39;00m d[\u001b[38;5;241m100\u001b[39m]\n",
      "\u001b[1;31mKeyError\u001b[0m: 100"
     ]
    }
   ],
   "source": [
    "del d[100]"
   ]
  },
  {
   "cell_type": "code",
   "execution_count": 75,
   "id": "38659bf2",
   "metadata": {},
   "outputs": [
    {
     "data": {
      "text/plain": [
       "{1: 'amit', 2: 'barnak', 3: 45}"
      ]
     },
     "execution_count": 75,
     "metadata": {},
     "output_type": "execute_result"
    }
   ],
   "source": [
    "d={1:\"amit\", 2:\"barnak\", 3:45}\n",
    "d"
   ]
  },
  {
   "cell_type": "code",
   "execution_count": 76,
   "id": "b54507c1",
   "metadata": {},
   "outputs": [],
   "source": [
    "del a"
   ]
  },
  {
   "cell_type": "code",
   "execution_count": 77,
   "id": "1537d39f",
   "metadata": {},
   "outputs": [
    {
     "ename": "NameError",
     "evalue": "name 'a' is not defined",
     "output_type": "error",
     "traceback": [
      "\u001b[1;31m---------------------------------------------------------------------------\u001b[0m",
      "\u001b[1;31mNameError\u001b[0m                                 Traceback (most recent call last)",
      "Cell \u001b[1;32mIn[77], line 1\u001b[0m\n\u001b[1;32m----> 1\u001b[0m \u001b[43ma\u001b[49m\n",
      "\u001b[1;31mNameError\u001b[0m: name 'a' is not defined"
     ]
    }
   ],
   "source": [
    "a\n"
   ]
  },
  {
   "cell_type": "code",
   "execution_count": 79,
   "id": "2b6a8da0",
   "metadata": {},
   "outputs": [],
   "source": [
    "a={1:\"amit\", 2:\"barnak\", 3:45}\n",
    "a.clear()"
   ]
  },
  {
   "cell_type": "code",
   "execution_count": 80,
   "id": "d795670e",
   "metadata": {},
   "outputs": [
    {
     "data": {
      "text/plain": [
       "{}"
      ]
     },
     "execution_count": 80,
     "metadata": {},
     "output_type": "execute_result"
    }
   ],
   "source": [
    "a"
   ]
  },
  {
   "cell_type": "code",
   "execution_count": 81,
   "id": "757a6d95",
   "metadata": {},
   "outputs": [
    {
     "data": {
      "text/plain": [
       "'amit'"
      ]
     },
     "execution_count": 81,
     "metadata": {},
     "output_type": "execute_result"
    }
   ],
   "source": [
    "#len()\n",
    "#get()\n",
    "#clear\n",
    "#dict\n",
    "#pop() ====> specific element remove\n",
    "a={1:\"amit\", 2:\"barnak\", 3:45}\n",
    "a.pop(1) #remove the corresponding pair associated with key as 1\n",
    "#and it will return value 'amit'"
   ]
  },
  {
   "cell_type": "code",
   "execution_count": 83,
   "id": "acd8da0d",
   "metadata": {},
   "outputs": [
    {
     "data": {
      "text/plain": [
       "(3, 45)"
      ]
     },
     "execution_count": 83,
     "metadata": {},
     "output_type": "execute_result"
    }
   ],
   "source": [
    "a={1:\"amit\", 2:\"barnak\", 3:45}\n",
    "a.popitem() #randomly remove any item "
   ]
  },
  {
   "cell_type": "code",
   "execution_count": 84,
   "id": "36145b49",
   "metadata": {},
   "outputs": [
    {
     "data": {
      "text/plain": [
       "{1: 'amit', 2: 'barnak'}"
      ]
     },
     "execution_count": 84,
     "metadata": {},
     "output_type": "execute_result"
    }
   ],
   "source": [
    "a"
   ]
  },
  {
   "cell_type": "code",
   "execution_count": 85,
   "id": "b0fa637d",
   "metadata": {},
   "outputs": [
    {
     "data": {
      "text/plain": [
       "(3, 45)"
      ]
     },
     "execution_count": 85,
     "metadata": {},
     "output_type": "execute_result"
    }
   ],
   "source": [
    "a={1:\"amit\", 2:\"barnak\", 3:45}\n",
    "a.popitem()"
   ]
  },
  {
   "cell_type": "code",
   "execution_count": 86,
   "id": "7d9d34ea",
   "metadata": {},
   "outputs": [],
   "source": [
    "#y.update(x) ==> all the items(key,value) pairs of dict x will be added to dict y\n"
   ]
  },
  {
   "cell_type": "code",
   "execution_count": 87,
   "id": "19e18db1",
   "metadata": {},
   "outputs": [],
   "source": [
    "#print frequency of each charcter in a string\n",
    "#vowels frequency in a string \n"
   ]
  },
  {
   "cell_type": "code",
   "execution_count": 88,
   "id": "b1ee0ab6",
   "metadata": {},
   "outputs": [
    {
     "name": "stdout",
     "output_type": "stream",
     "text": [
      "3\n"
     ]
    }
   ],
   "source": [
    "d=3\n",
    "print(++++d)"
   ]
  },
  {
   "cell_type": "code",
   "execution_count": 89,
   "id": "02ad6b0e",
   "metadata": {},
   "outputs": [
    {
     "ename": "SyntaxError",
     "evalue": "invalid syntax (1027087953.py, line 2)",
     "output_type": "error",
     "traceback": [
      "\u001b[1;36m  Cell \u001b[1;32mIn[89], line 2\u001b[1;36m\u001b[0m\n\u001b[1;33m    print(d++)\u001b[0m\n\u001b[1;37m             ^\u001b[0m\n\u001b[1;31mSyntaxError\u001b[0m\u001b[1;31m:\u001b[0m invalid syntax\n"
     ]
    }
   ],
   "source": [
    "d=3\n",
    "print(d++)"
   ]
  },
  {
   "cell_type": "code",
   "execution_count": 95,
   "id": "bdbacb2d",
   "metadata": {},
   "outputs": [
    {
     "name": "stdout",
     "output_type": "stream",
     "text": [
      "enter a string\n",
      "{}\n"
     ]
    }
   ],
   "source": [
    "#charter in a string\n",
    "s=input(\"enter a string\")\n",
    "l=list(s)\n",
    "d={}\n",
    "for ele in l:\n",
    "    d[ele]= d.get(ele,0)+1\n",
    "print(d)"
   ]
  },
  {
   "cell_type": "code",
   "execution_count": 94,
   "id": "f5cb257d",
   "metadata": {},
   "outputs": [
    {
     "name": "stdout",
     "output_type": "stream",
     "text": [
      "enter a stringbarnak\n",
      "{'a': 2}\n"
     ]
    }
   ],
   "source": [
    "#vowels in a string\n",
    "s=input(\"enter a string\")\n",
    "l=list(s)\n",
    "d={}\n",
    "for ele in l:\n",
    "    if ele in 'aieouAEIOU':\n",
    "        d[ele]= d.get(ele,0)+1 \n",
    "print(d)"
   ]
  },
  {
   "cell_type": "code",
   "execution_count": null,
   "id": "d72332af",
   "metadata": {},
   "outputs": [],
   "source": []
  }
 ],
 "metadata": {
  "kernelspec": {
   "display_name": "Python 3 (ipykernel)",
   "language": "python",
   "name": "python3"
  },
  "language_info": {
   "codemirror_mode": {
    "name": "ipython",
    "version": 3
   },
   "file_extension": ".py",
   "mimetype": "text/x-python",
   "name": "python",
   "nbconvert_exporter": "python",
   "pygments_lexer": "ipython3",
   "version": "3.10.6"
  }
 },
 "nbformat": 4,
 "nbformat_minor": 5
}

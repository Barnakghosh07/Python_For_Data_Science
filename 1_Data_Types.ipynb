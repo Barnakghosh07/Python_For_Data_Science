{
 "cells": [
  {
   "cell_type": "code",
   "execution_count": null,
   "id": "ae18e260",
   "metadata": {},
   "outputs": [],
   "source": [
    "#lists"
   ]
  },
  {
   "cell_type": "code",
   "execution_count": 3,
   "id": "e278b827",
   "metadata": {},
   "outputs": [],
   "source": [
    "l=[1,2,3,\"barnak\"] list #list "
   ]
  },
  {
   "cell_type": "code",
   "execution_count": 5,
   "id": "2d926fc1",
   "metadata": {},
   "outputs": [
    {
     "name": "stdout",
     "output_type": "stream",
     "text": [
      "[1, 2, 3, 'barnak']\n"
     ]
    }
   ],
   "source": [
    "print(l)"
   ]
  },
  {
   "cell_type": "code",
   "execution_count": 13,
   "id": "dbf415f9",
   "metadata": {},
   "outputs": [],
   "source": [
    "l.append(12) #add element "
   ]
  },
  {
   "cell_type": "code",
   "execution_count": 14,
   "id": "77fc9a51",
   "metadata": {},
   "outputs": [
    {
     "name": "stdout",
     "output_type": "stream",
     "text": [
      "[1, 2, 3, 'barnak', 12]\n"
     ]
    }
   ],
   "source": [
    "print(l)"
   ]
  },
  {
   "cell_type": "code",
   "execution_count": null,
   "id": "bf3782de",
   "metadata": {},
   "outputs": [],
   "source": [
    "#tuples"
   ]
  },
  {
   "cell_type": "code",
   "execution_count": 9,
   "id": "f2417eeb",
   "metadata": {},
   "outputs": [],
   "source": [
    "t=(10,12.3,\"bruno,65\")"
   ]
  },
  {
   "cell_type": "code",
   "execution_count": 11,
   "id": "5adbe8d3",
   "metadata": {},
   "outputs": [
    {
     "data": {
      "text/plain": [
       "tuple"
      ]
     },
     "execution_count": 11,
     "metadata": {},
     "output_type": "execute_result"
    }
   ],
   "source": [
    "type(t) #append and remove not woriking. Touple is read only, immutable, duplicate allowed "
   ]
  },
  {
   "cell_type": "code",
   "execution_count": 12,
   "id": "96fef5e3",
   "metadata": {},
   "outputs": [
    {
     "ename": "TypeError",
     "evalue": "'tuple' object does not support item assignment",
     "output_type": "error",
     "traceback": [
      "\u001b[1;31m---------------------------------------------------------------------------\u001b[0m",
      "\u001b[1;31mTypeError\u001b[0m                                 Traceback (most recent call last)",
      "Cell \u001b[1;32mIn[12], line 1\u001b[0m\n\u001b[1;32m----> 1\u001b[0m \u001b[43mt\u001b[49m\u001b[43m[\u001b[49m\u001b[38;5;241;43m0\u001b[39;49m\u001b[43m]\u001b[49m\u001b[38;5;241m=\u001b[39m\u001b[38;5;241m1009\u001b[39m\n",
      "\u001b[1;31mTypeError\u001b[0m: 'tuple' object does not support item assignment"
     ]
    }
   ],
   "source": [
    "t[0]=1009 #not allowed "
   ]
  },
  {
   "cell_type": "code",
   "execution_count": 16,
   "id": "a7534b69",
   "metadata": {},
   "outputs": [],
   "source": [
    "l[2]=\"barnakk\""
   ]
  },
  {
   "cell_type": "code",
   "execution_count": 17,
   "id": "4f33d5b3",
   "metadata": {},
   "outputs": [
    {
     "name": "stdout",
     "output_type": "stream",
     "text": [
      "[1, 2, 'barnakk', 'barnak', 12]\n"
     ]
    }
   ],
   "source": [
    "print(l)"
   ]
  },
  {
   "cell_type": "code",
   "execution_count": 18,
   "id": "576ee452",
   "metadata": {},
   "outputs": [],
   "source": [
    "#range: represents a sequence of numbers"
   ]
  },
  {
   "cell_type": "code",
   "execution_count": 19,
   "id": "f2a73431",
   "metadata": {},
   "outputs": [
    {
     "data": {
      "text/plain": [
       "range(0, 5)"
      ]
     },
     "execution_count": 19,
     "metadata": {},
     "output_type": "execute_result"
    }
   ],
   "source": [
    "range(5) #it will generate numbers starting from 0 to 5-1"
   ]
  },
  {
   "cell_type": "code",
   "execution_count": 21,
   "id": "2817cb26",
   "metadata": {},
   "outputs": [
    {
     "name": "stdout",
     "output_type": "stream",
     "text": [
      "0\n",
      "1\n",
      "2\n",
      "3\n",
      "4\n"
     ]
    }
   ],
   "source": [
    "for element in range(5):print(element)"
   ]
  },
  {
   "cell_type": "code",
   "execution_count": 23,
   "id": "1822d7aa",
   "metadata": {},
   "outputs": [
    {
     "data": {
      "text/plain": [
       "range(5, 10)"
      ]
     },
     "execution_count": 23,
     "metadata": {},
     "output_type": "execute_result"
    }
   ],
   "source": [
    "#format 2\n",
    "#range(start,end)\n",
    "range(5,10) #sequence of numbers from 5 to 10-1"
   ]
  },
  {
   "cell_type": "code",
   "execution_count": 24,
   "id": "91cdcbc5",
   "metadata": {},
   "outputs": [
    {
     "name": "stdout",
     "output_type": "stream",
     "text": [
      "5\n",
      "6\n",
      "7\n",
      "8\n",
      "9\n"
     ]
    }
   ],
   "source": [
    "for element in range(5,10):print(element)"
   ]
  },
  {
   "cell_type": "code",
   "execution_count": 25,
   "id": "753e48a0",
   "metadata": {},
   "outputs": [
    {
     "data": {
      "text/plain": [
       "range(2, 20, 2)"
      ]
     },
     "execution_count": 25,
     "metadata": {},
     "output_type": "execute_result"
    }
   ],
   "source": [
    "#format3\n",
    "#format(start,end,step)\n",
    "#range(2,20,2) =>2,4,6,8,10,12,14,16,18 2 to 19 with a step size of 2\n",
    "range(2,20,2)"
   ]
  },
  {
   "cell_type": "code",
   "execution_count": 26,
   "id": "321b4965",
   "metadata": {},
   "outputs": [
    {
     "name": "stdout",
     "output_type": "stream",
     "text": [
      "2\n",
      "4\n",
      "6\n",
      "8\n",
      "10\n",
      "12\n",
      "14\n",
      "16\n",
      "18\n"
     ]
    }
   ],
   "source": [
    "for element in range(2,20,2):print(element)"
   ]
  },
  {
   "cell_type": "code",
   "execution_count": 27,
   "id": "969fba84",
   "metadata": {},
   "outputs": [],
   "source": [
    "r=range(5,10)"
   ]
  },
  {
   "cell_type": "code",
   "execution_count": 28,
   "id": "100f2e3d",
   "metadata": {},
   "outputs": [
    {
     "data": {
      "text/plain": [
       "range"
      ]
     },
     "execution_count": 28,
     "metadata": {},
     "output_type": "execute_result"
    }
   ],
   "source": [
    "type(r)"
   ]
  },
  {
   "cell_type": "code",
   "execution_count": 29,
   "id": "5e04f7c0",
   "metadata": {},
   "outputs": [
    {
     "data": {
      "text/plain": [
       "5"
      ]
     },
     "execution_count": 29,
     "metadata": {},
     "output_type": "execute_result"
    }
   ],
   "source": [
    "r[0]"
   ]
  },
  {
   "cell_type": "code",
   "execution_count": 30,
   "id": "602523ef",
   "metadata": {},
   "outputs": [
    {
     "data": {
      "text/plain": [
       "6"
      ]
     },
     "execution_count": 30,
     "metadata": {},
     "output_type": "execute_result"
    }
   ],
   "source": [
    "r[1]"
   ]
  },
  {
   "cell_type": "code",
   "execution_count": 31,
   "id": "5de2e5ab",
   "metadata": {},
   "outputs": [
    {
     "data": {
      "text/plain": [
       "7"
      ]
     },
     "execution_count": 31,
     "metadata": {},
     "output_type": "execute_result"
    }
   ],
   "source": [
    "r[2]"
   ]
  },
  {
   "cell_type": "code",
   "execution_count": 32,
   "id": "88558fe7",
   "metadata": {},
   "outputs": [],
   "source": [
    "#we can create a list of all elements in range()\n",
    "#int(),float(),str(), similarly list()\n",
    "l=list(range(2,10))"
   ]
  },
  {
   "cell_type": "code",
   "execution_count": 33,
   "id": "61264b36",
   "metadata": {},
   "outputs": [
    {
     "data": {
      "text/plain": [
       "[2, 3, 4, 5, 6, 7, 8, 9]"
      ]
     },
     "execution_count": 33,
     "metadata": {},
     "output_type": "execute_result"
    }
   ],
   "source": [
    "l #it create a list so it displays list\n"
   ]
  },
  {
   "cell_type": "code",
   "execution_count": 35,
   "id": "033582a0",
   "metadata": {},
   "outputs": [],
   "source": [
    "t=tuple(range(2,10))"
   ]
  },
  {
   "cell_type": "code",
   "execution_count": 36,
   "id": "f7caa5a7",
   "metadata": {},
   "outputs": [],
   "source": [
    "s=list(\"barnak\")"
   ]
  },
  {
   "cell_type": "code",
   "execution_count": 37,
   "id": "c64b0a71",
   "metadata": {},
   "outputs": [
    {
     "data": {
      "text/plain": [
       "['b', 'a', 'r', 'n', 'a', 'k']"
      ]
     },
     "execution_count": 37,
     "metadata": {},
     "output_type": "execute_result"
    }
   ],
   "source": [
    "s\n"
   ]
  },
  {
   "cell_type": "code",
   "execution_count": 38,
   "id": "086b14d1",
   "metadata": {},
   "outputs": [],
   "source": [
    "s=tuple(\"pankaj\")"
   ]
  },
  {
   "cell_type": "code",
   "execution_count": 39,
   "id": "ca84f9d7",
   "metadata": {},
   "outputs": [
    {
     "data": {
      "text/plain": [
       "('p', 'a', 'n', 'k', 'a', 'j')"
      ]
     },
     "execution_count": 39,
     "metadata": {},
     "output_type": "execute_result"
    }
   ],
   "source": [
    "s\n"
   ]
  },
  {
   "cell_type": "code",
   "execution_count": 40,
   "id": "708be3bd",
   "metadata": {},
   "outputs": [],
   "source": [
    "#Set: No duplicate elements, Order doesnt matter, Heterogenous elements, No concept of index, No Slicing, Mutable "
   ]
  },
  {
   "cell_type": "code",
   "execution_count": 41,
   "id": "e694a8a6",
   "metadata": {},
   "outputs": [],
   "source": [
    "s={1,2,3,4,\"Barnak\",\"Ghosh\"}"
   ]
  },
  {
   "cell_type": "code",
   "execution_count": 42,
   "id": "223c4d63",
   "metadata": {},
   "outputs": [
    {
     "ename": "TypeError",
     "evalue": "'set' object is not subscriptable",
     "output_type": "error",
     "traceback": [
      "\u001b[1;31m---------------------------------------------------------------------------\u001b[0m",
      "\u001b[1;31mTypeError\u001b[0m                                 Traceback (most recent call last)",
      "Cell \u001b[1;32mIn[42], line 1\u001b[0m\n\u001b[1;32m----> 1\u001b[0m \u001b[43ms\u001b[49m\u001b[43m[\u001b[49m\u001b[38;5;241;43m0\u001b[39;49m\u001b[43m]\u001b[49m\n",
      "\u001b[1;31mTypeError\u001b[0m: 'set' object is not subscriptable"
     ]
    }
   ],
   "source": [
    "s[0] #no concept of indexing\n"
   ]
  },
  {
   "cell_type": "code",
   "execution_count": 43,
   "id": "864a8900",
   "metadata": {},
   "outputs": [],
   "source": [
    "s.add(5) #to add an element "
   ]
  },
  {
   "cell_type": "code",
   "execution_count": 44,
   "id": "0ae484de",
   "metadata": {},
   "outputs": [
    {
     "data": {
      "text/plain": [
       "{1, 2, 3, 4, 5, 'Barnak', 'Ghosh'}"
      ]
     },
     "execution_count": 44,
     "metadata": {},
     "output_type": "execute_result"
    }
   ],
   "source": [
    "s"
   ]
  },
  {
   "cell_type": "code",
   "execution_count": 45,
   "id": "d77fd0a1",
   "metadata": {},
   "outputs": [
    {
     "data": {
      "text/plain": [
       "{1, 2, 3, 4, 5, 'Barnak', 'Ghosh'}"
      ]
     },
     "execution_count": 45,
     "metadata": {},
     "output_type": "execute_result"
    }
   ],
   "source": [
    "s.add(5) #no effect as 5 is already present\n",
    "s"
   ]
  },
  {
   "cell_type": "code",
   "execution_count": 46,
   "id": "442f7431",
   "metadata": {},
   "outputs": [
    {
     "data": {
      "text/plain": [
       "{1, 2, 3, 4, 'Barnak', 'Ghosh'}"
      ]
     },
     "execution_count": 46,
     "metadata": {},
     "output_type": "execute_result"
    }
   ],
   "source": [
    "s.remove(5) #to remove an elemnt\n",
    "s"
   ]
  },
  {
   "cell_type": "code",
   "execution_count": 47,
   "id": "7da3b2aa",
   "metadata": {},
   "outputs": [],
   "source": [
    "a=set(\"Barnak\") #\"Barnak\" is a group of elemnts in which a is duplicated "
   ]
  },
  {
   "cell_type": "code",
   "execution_count": 48,
   "id": "4311217d",
   "metadata": {},
   "outputs": [
    {
     "data": {
      "text/plain": [
       "{'B', 'a', 'k', 'n', 'r'}"
      ]
     },
     "execution_count": 48,
     "metadata": {},
     "output_type": "execute_result"
    }
   ],
   "source": [
    "a"
   ]
  },
  {
   "cell_type": "code",
   "execution_count": 50,
   "id": "d25b4581",
   "metadata": {},
   "outputs": [
    {
     "ename": "KeyError",
     "evalue": "5",
     "output_type": "error",
     "traceback": [
      "\u001b[1;31m---------------------------------------------------------------------------\u001b[0m",
      "\u001b[1;31mKeyError\u001b[0m                                  Traceback (most recent call last)",
      "Cell \u001b[1;32mIn[50], line 2\u001b[0m\n\u001b[0;32m      1\u001b[0m a\u001b[38;5;241m=\u001b[39m{\u001b[38;5;241m1\u001b[39m,\u001b[38;5;241m2\u001b[39m,\u001b[38;5;241m3\u001b[39m,\u001b[38;5;241m4\u001b[39m}\n\u001b[1;32m----> 2\u001b[0m \u001b[43ma\u001b[49m\u001b[38;5;241;43m.\u001b[39;49m\u001b[43mremove\u001b[49m\u001b[43m(\u001b[49m\u001b[38;5;241;43m5\u001b[39;49m\u001b[43m)\u001b[49m\n",
      "\u001b[1;31mKeyError\u001b[0m: 5"
     ]
    }
   ],
   "source": [
    "a={1,2,3,4}\n",
    "a.remove(5)"
   ]
  },
  {
   "cell_type": "code",
   "execution_count": 51,
   "id": "4e6dcb0f",
   "metadata": {},
   "outputs": [],
   "source": [
    "#frozenset => same as set but it is immutable\n",
    "#no add()\n",
    "#no remove()\n",
    "s={1,2,3,4}\n",
    "x=frozenset(s)"
   ]
  },
  {
   "cell_type": "code",
   "execution_count": 52,
   "id": "54921ceb",
   "metadata": {},
   "outputs": [
    {
     "data": {
      "text/plain": [
       "frozenset({1, 2, 3, 4})"
      ]
     },
     "execution_count": 52,
     "metadata": {},
     "output_type": "execute_result"
    }
   ],
   "source": [
    "x\n"
   ]
  },
  {
   "cell_type": "code",
   "execution_count": 53,
   "id": "0b498634",
   "metadata": {},
   "outputs": [
    {
     "data": {
      "text/plain": [
       "frozenset"
      ]
     },
     "execution_count": 53,
     "metadata": {},
     "output_type": "execute_result"
    }
   ],
   "source": [
    "type(x)"
   ]
  },
  {
   "cell_type": "code",
   "execution_count": 54,
   "id": "8a50202c",
   "metadata": {},
   "outputs": [
    {
     "ename": "AttributeError",
     "evalue": "'frozenset' object has no attribute 'add'",
     "output_type": "error",
     "traceback": [
      "\u001b[1;31m---------------------------------------------------------------------------\u001b[0m",
      "\u001b[1;31mAttributeError\u001b[0m                            Traceback (most recent call last)",
      "Cell \u001b[1;32mIn[54], line 1\u001b[0m\n\u001b[1;32m----> 1\u001b[0m \u001b[43mx\u001b[49m\u001b[38;5;241;43m.\u001b[39;49m\u001b[43madd\u001b[49m(\u001b[38;5;241m12\u001b[39m)\n",
      "\u001b[1;31mAttributeError\u001b[0m: 'frozenset' object has no attribute 'add'"
     ]
    }
   ],
   "source": [
    "x.add(12) #as it is a frozen set "
   ]
  },
  {
   "cell_type": "code",
   "execution_count": 56,
   "id": "badd3e1f",
   "metadata": {},
   "outputs": [],
   "source": [
    "#Dictionary => key value pair, duplicate keys are not allowed but values can be duplicated"
   ]
  },
  {
   "cell_type": "code",
   "execution_count": 57,
   "id": "75628003",
   "metadata": {},
   "outputs": [
    {
     "data": {
      "text/plain": [
       "{1: 'Barnak', 2: 'Nashpati', 3: 'rahul'}"
      ]
     },
     "execution_count": 57,
     "metadata": {},
     "output_type": "execute_result"
    }
   ],
   "source": [
    "d={1:'Barnak', 2: 'Nashpati', 3:'rahul'}\n",
    "d"
   ]
  },
  {
   "cell_type": "code",
   "execution_count": 58,
   "id": "025d7cb0",
   "metadata": {},
   "outputs": [
    {
     "data": {
      "text/plain": [
       "'Barnak'"
      ]
     },
     "execution_count": 58,
     "metadata": {},
     "output_type": "execute_result"
    }
   ],
   "source": [
    "d[1]"
   ]
  },
  {
   "cell_type": "code",
   "execution_count": 59,
   "id": "8045aea4",
   "metadata": {},
   "outputs": [
    {
     "data": {
      "text/plain": [
       "{1: 'Arun', 2: 'Nashpati', 3: 'rahul'}"
      ]
     },
     "execution_count": 59,
     "metadata": {},
     "output_type": "execute_result"
    }
   ],
   "source": [
    "d[1]='Arun' #we are trying ==> {1:Arun}\n",
    "d\n"
   ]
  },
  {
   "cell_type": "code",
   "execution_count": 60,
   "id": "e37e5a63",
   "metadata": {},
   "outputs": [],
   "source": [
    "#if we try to add/insert an entry with existence key then old value will be replaced with the new valuw\n"
   ]
  },
  {
   "cell_type": "code",
   "execution_count": 61,
   "id": "6b54ecca",
   "metadata": {},
   "outputs": [],
   "source": [
    "d={}"
   ]
  },
  {
   "cell_type": "code",
   "execution_count": 62,
   "id": "2ccdc2bc",
   "metadata": {},
   "outputs": [
    {
     "data": {
      "text/plain": [
       "dict"
      ]
     },
     "execution_count": 62,
     "metadata": {},
     "output_type": "execute_result"
    }
   ],
   "source": [
    "type(d)"
   ]
  },
  {
   "cell_type": "code",
   "execution_count": 63,
   "id": "cc42f24f",
   "metadata": {},
   "outputs": [
    {
     "data": {
      "text/plain": [
       "{5: 'Parvati'}"
      ]
     },
     "execution_count": 63,
     "metadata": {},
     "output_type": "execute_result"
    }
   ],
   "source": [
    "d[5]='Parvati'\n",
    "d"
   ]
  },
  {
   "cell_type": "code",
   "execution_count": 64,
   "id": "a3564f23",
   "metadata": {},
   "outputs": [
    {
     "data": {
      "text/plain": [
       "{5: 'Parvati', 6: 'Neeraj'}"
      ]
     },
     "execution_count": 64,
     "metadata": {},
     "output_type": "execute_result"
    }
   ],
   "source": [
    "d[6]='Neeraj'\n",
    "d"
   ]
  },
  {
   "cell_type": "code",
   "execution_count": 65,
   "id": "e747784d",
   "metadata": {},
   "outputs": [],
   "source": [
    "#mutable but order is not preserved"
   ]
  },
  {
   "cell_type": "code",
   "execution_count": 66,
   "id": "6e8e250f",
   "metadata": {},
   "outputs": [],
   "source": [
    "#None type ==> Functions "
   ]
  },
  {
   "cell_type": "code",
   "execution_count": 67,
   "id": "f81aa10e",
   "metadata": {},
   "outputs": [
    {
     "data": {
      "text/plain": [
       "set()"
      ]
     },
     "execution_count": 67,
     "metadata": {},
     "output_type": "execute_result"
    }
   ],
   "source": [
    "s=set() #Empty_Set\n",
    "s"
   ]
  },
  {
   "cell_type": "code",
   "execution_count": 68,
   "id": "2f42ab41",
   "metadata": {},
   "outputs": [
    {
     "name": "stdout",
     "output_type": "stream",
     "text": [
      "set()\n"
     ]
    }
   ],
   "source": [
    "print(s)"
   ]
  },
  {
   "cell_type": "code",
   "execution_count": null,
   "id": "095c3788",
   "metadata": {},
   "outputs": [],
   "source": []
  }
 ],
 "metadata": {
  "kernelspec": {
   "display_name": "Python 3 (ipykernel)",
   "language": "python",
   "name": "python3"
  },
  "language_info": {
   "codemirror_mode": {
    "name": "ipython",
    "version": 3
   },
   "file_extension": ".py",
   "mimetype": "text/x-python",
   "name": "python",
   "nbconvert_exporter": "python",
   "pygments_lexer": "ipython3",
   "version": "3.10.6"
  }
 },
 "nbformat": 4,
 "nbformat_minor": 5
}

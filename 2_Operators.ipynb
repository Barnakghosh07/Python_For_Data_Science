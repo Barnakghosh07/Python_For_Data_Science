{
 "cells": [
  {
   "cell_type": "code",
   "execution_count": 2,
   "id": "216e5a08",
   "metadata": {},
   "outputs": [],
   "source": [
    "#Arithmetic Operators +,-,*,/,**"
   ]
  },
  {
   "cell_type": "code",
   "execution_count": 3,
   "id": "76033c1e",
   "metadata": {},
   "outputs": [],
   "source": [
    "a=10\n",
    "b=20"
   ]
  },
  {
   "cell_type": "code",
   "execution_count": 4,
   "id": "fd0fa493",
   "metadata": {},
   "outputs": [
    {
     "data": {
      "text/plain": [
       "30"
      ]
     },
     "execution_count": 4,
     "metadata": {},
     "output_type": "execute_result"
    }
   ],
   "source": [
    "a+b"
   ]
  },
  {
   "cell_type": "code",
   "execution_count": 5,
   "id": "cbe044fa",
   "metadata": {},
   "outputs": [
    {
     "data": {
      "text/plain": [
       "2.0"
      ]
     },
     "execution_count": 5,
     "metadata": {},
     "output_type": "execute_result"
    }
   ],
   "source": [
    "b/a"
   ]
  },
  {
   "cell_type": "code",
   "execution_count": 6,
   "id": "fd66bca2",
   "metadata": {},
   "outputs": [
    {
     "data": {
      "text/plain": [
       "200"
      ]
     },
     "execution_count": 6,
     "metadata": {},
     "output_type": "execute_result"
    }
   ],
   "source": [
    "a*b"
   ]
  },
  {
   "cell_type": "code",
   "execution_count": 7,
   "id": "26f73710",
   "metadata": {},
   "outputs": [
    {
     "data": {
      "text/plain": [
       "2.5"
      ]
     },
     "execution_count": 7,
     "metadata": {},
     "output_type": "execute_result"
    }
   ],
   "source": [
    "a=10\n",
    "b=4\n",
    "a/b #always perform floating point arithmetic, return float value "
   ]
  },
  {
   "cell_type": "code",
   "execution_count": 8,
   "id": "ce625db3",
   "metadata": {},
   "outputs": [
    {
     "data": {
      "text/plain": [
       "2"
      ]
     },
     "execution_count": 8,
     "metadata": {},
     "output_type": "execute_result"
    }
   ],
   "source": [
    "a//b #floor division"
   ]
  },
  {
   "cell_type": "code",
   "execution_count": 9,
   "id": "b62f7542",
   "metadata": {},
   "outputs": [
    {
     "data": {
      "text/plain": [
       "3.0"
      ]
     },
     "execution_count": 9,
     "metadata": {},
     "output_type": "execute_result"
    }
   ],
   "source": [
    "#// it can perforn boath floor division and as well as floating divison \n",
    "20.0//6"
   ]
  },
  {
   "cell_type": "code",
   "execution_count": 10,
   "id": "42ae004c",
   "metadata": {},
   "outputs": [
    {
     "data": {
      "text/plain": [
       "2"
      ]
     },
     "execution_count": 10,
     "metadata": {},
     "output_type": "execute_result"
    }
   ],
   "source": [
    "#modulas operator ==> remainder when a is divided by b\n",
    "20%3"
   ]
  },
  {
   "cell_type": "code",
   "execution_count": 11,
   "id": "622a7f86",
   "metadata": {},
   "outputs": [
    {
     "data": {
      "text/plain": [
       "1024"
      ]
     },
     "execution_count": 11,
     "metadata": {},
     "output_type": "execute_result"
    }
   ],
   "source": [
    "#power operator\n",
    "2**10"
   ]
  },
  {
   "cell_type": "code",
   "execution_count": 12,
   "id": "f32b5855",
   "metadata": {},
   "outputs": [
    {
     "data": {
      "text/plain": [
       "8"
      ]
     },
     "execution_count": 12,
     "metadata": {},
     "output_type": "execute_result"
    }
   ],
   "source": [
    "2**3"
   ]
  },
  {
   "cell_type": "code",
   "execution_count": 13,
   "id": "1bdacb24",
   "metadata": {},
   "outputs": [],
   "source": [
    "# \"+\" opertors work in string too. both operands will be same as string. "
   ]
  },
  {
   "cell_type": "code",
   "execution_count": 15,
   "id": "6f94ada0",
   "metadata": {},
   "outputs": [
    {
     "data": {
      "text/plain": [
       "'barnak ghosh'"
      ]
     },
     "execution_count": 15,
     "metadata": {},
     "output_type": "execute_result"
    }
   ],
   "source": [
    "a=\"barnak\"\n",
    "b=\" ghosh\"\n",
    "a+b"
   ]
  },
  {
   "cell_type": "code",
   "execution_count": 17,
   "id": "96277b6f",
   "metadata": {},
   "outputs": [],
   "source": [
    "# \"pankaj\" + 10 #cannt happend "
   ]
  },
  {
   "cell_type": "code",
   "execution_count": 22,
   "id": "bf72e855",
   "metadata": {},
   "outputs": [
    {
     "data": {
      "text/plain": [
       "'barnak barnak '"
      ]
     },
     "execution_count": 22,
     "metadata": {},
     "output_type": "execute_result"
    }
   ],
   "source": [
    "# we can also use string type multiply operator\n",
    "# but in that case one argument must be int type and another must be str type\n",
    "\"barnak \"*2"
   ]
  },
  {
   "cell_type": "code",
   "execution_count": 23,
   "id": "04d4787b",
   "metadata": {},
   "outputs": [
    {
     "data": {
      "text/plain": [
       "'ghoshghoshghoshghosh'"
      ]
     },
     "execution_count": 23,
     "metadata": {},
     "output_type": "execute_result"
    }
   ],
   "source": [
    "4*\"ghosh\""
   ]
  },
  {
   "cell_type": "code",
   "execution_count": 24,
   "id": "29eb044f",
   "metadata": {},
   "outputs": [
    {
     "data": {
      "text/plain": [
       "' Ghosh Ghosh Ghosh Ghosh'"
      ]
     },
     "execution_count": 24,
     "metadata": {},
     "output_type": "execute_result"
    }
   ],
   "source": [
    "4*\" Ghosh\""
   ]
  },
  {
   "cell_type": "code",
   "execution_count": 25,
   "id": "9d72799a",
   "metadata": {},
   "outputs": [],
   "source": [
    "#Relational Operators <,<=,>,>="
   ]
  },
  {
   "cell_type": "code",
   "execution_count": 26,
   "id": "f0e83ed7",
   "metadata": {},
   "outputs": [
    {
     "data": {
      "text/plain": [
       "True"
      ]
     },
     "execution_count": 26,
     "metadata": {},
     "output_type": "execute_result"
    }
   ],
   "source": [
    "10<20"
   ]
  },
  {
   "cell_type": "code",
   "execution_count": 27,
   "id": "c661db27",
   "metadata": {},
   "outputs": [
    {
     "data": {
      "text/plain": [
       "True"
      ]
     },
     "execution_count": 27,
     "metadata": {},
     "output_type": "execute_result"
    }
   ],
   "source": [
    "20>10"
   ]
  },
  {
   "cell_type": "code",
   "execution_count": 28,
   "id": "9367b361",
   "metadata": {},
   "outputs": [
    {
     "data": {
      "text/plain": [
       "False"
      ]
     },
     "execution_count": 28,
     "metadata": {},
     "output_type": "execute_result"
    }
   ],
   "source": [
    "10<10"
   ]
  },
  {
   "cell_type": "code",
   "execution_count": 29,
   "id": "920da0a9",
   "metadata": {},
   "outputs": [
    {
     "data": {
      "text/plain": [
       "True"
      ]
     },
     "execution_count": 29,
     "metadata": {},
     "output_type": "execute_result"
    }
   ],
   "source": [
    "10<=10"
   ]
  },
  {
   "cell_type": "code",
   "execution_count": 30,
   "id": "f8103ca6",
   "metadata": {},
   "outputs": [
    {
     "data": {
      "text/plain": [
       "(5+8j)"
      ]
     },
     "execution_count": 30,
     "metadata": {},
     "output_type": "execute_result"
    }
   ],
   "source": [
    "# Complex Number\n",
    "a=2+3j\n",
    "b=3+5j\n",
    "a+b"
   ]
  },
  {
   "cell_type": "code",
   "execution_count": 32,
   "id": "4d288bb7",
   "metadata": {},
   "outputs": [],
   "source": [
    "# Relational operators is applicable to str also "
   ]
  },
  {
   "cell_type": "code",
   "execution_count": 33,
   "id": "f4780190",
   "metadata": {},
   "outputs": [],
   "source": [
    "a=\"Barnak\"\n",
    "b=\"Ghosh\""
   ]
  },
  {
   "cell_type": "code",
   "execution_count": 35,
   "id": "3740a229",
   "metadata": {},
   "outputs": [
    {
     "data": {
      "text/plain": [
       "True"
      ]
     },
     "execution_count": 35,
     "metadata": {},
     "output_type": "execute_result"
    }
   ],
   "source": [
    "a<b #G comes after B"
   ]
  },
  {
   "cell_type": "code",
   "execution_count": 37,
   "id": "7e9bbcef",
   "metadata": {},
   "outputs": [
    {
     "data": {
      "text/plain": [
       "True"
      ]
     },
     "execution_count": 37,
     "metadata": {},
     "output_type": "execute_result"
    }
   ],
   "source": [
    "a=\"neeraj\"\n",
    "b=\"neetu\"\n",
    "a<b"
   ]
  },
  {
   "cell_type": "code",
   "execution_count": 39,
   "id": "0bfcbec8",
   "metadata": {},
   "outputs": [
    {
     "data": {
      "text/plain": [
       "1963612441936"
      ]
     },
     "execution_count": 39,
     "metadata": {},
     "output_type": "execute_result"
    }
   ],
   "source": [
    "a=100\n",
    "id(a)"
   ]
  },
  {
   "cell_type": "code",
   "execution_count": 40,
   "id": "b3e40d53",
   "metadata": {},
   "outputs": [
    {
     "data": {
      "text/plain": [
       "1963612441968"
      ]
     },
     "execution_count": 40,
     "metadata": {},
     "output_type": "execute_result"
    }
   ],
   "source": [
    "a=a+1\n",
    "a\n",
    "id(a)"
   ]
  },
  {
   "cell_type": "code",
   "execution_count": 42,
   "id": "ba5f91f4",
   "metadata": {},
   "outputs": [
    {
     "ename": "TypeError",
     "evalue": "'<' not supported between instances of 'complex' and 'complex'",
     "output_type": "error",
     "traceback": [
      "\u001b[1;31m---------------------------------------------------------------------------\u001b[0m",
      "\u001b[1;31mTypeError\u001b[0m                                 Traceback (most recent call last)",
      "Cell \u001b[1;32mIn[42], line 1\u001b[0m\n\u001b[1;32m----> 1\u001b[0m \u001b[38;5;241;43m2\u001b[39;49m\u001b[38;5;241;43m+\u001b[39;49m\u001b[38;5;241;43m3\u001b[39;49m\u001b[43mj\u001b[49m\u001b[38;5;241;43m<\u001b[39;49m\u001b[38;5;241;43m4\u001b[39;49m\u001b[38;5;241;43m+\u001b[39;49m\u001b[38;5;241;43m5\u001b[39;49m\u001b[43mj\u001b[49m\n",
      "\u001b[1;31mTypeError\u001b[0m: '<' not supported between instances of 'complex' and 'complex'"
     ]
    }
   ],
   "source": [
    "2+3j<4+5j"
   ]
  },
  {
   "cell_type": "code",
   "execution_count": 43,
   "id": "b709cc21",
   "metadata": {},
   "outputs": [
    {
     "data": {
      "text/plain": [
       "False"
      ]
     },
     "execution_count": 43,
     "metadata": {},
     "output_type": "execute_result"
    }
   ],
   "source": [
    "True<True"
   ]
  },
  {
   "cell_type": "code",
   "execution_count": 45,
   "id": "312ffb0b",
   "metadata": {},
   "outputs": [
    {
     "data": {
      "text/plain": [
       "True"
      ]
     },
     "execution_count": 45,
     "metadata": {},
     "output_type": "execute_result"
    }
   ],
   "source": [
    "#chaining\n",
    "10<20<30<40 #10<20 => True, 20<30 => True, 30<40 => True"
   ]
  },
  {
   "cell_type": "code",
   "execution_count": 47,
   "id": "88399316",
   "metadata": {},
   "outputs": [],
   "source": [
    "#Take input in python"
   ]
  },
  {
   "cell_type": "code",
   "execution_count": 48,
   "id": "51e1024b",
   "metadata": {},
   "outputs": [
    {
     "name": "stdout",
     "output_type": "stream",
     "text": [
      "20\n",
      "30\n"
     ]
    }
   ],
   "source": [
    "a=input()\n",
    "b=input()"
   ]
  },
  {
   "cell_type": "code",
   "execution_count": 49,
   "id": "23369ae0",
   "metadata": {},
   "outputs": [
    {
     "data": {
      "text/plain": [
       "'2030'"
      ]
     },
     "execution_count": 49,
     "metadata": {},
     "output_type": "execute_result"
    }
   ],
   "source": [
    "a+b"
   ]
  },
  {
   "cell_type": "code",
   "execution_count": 50,
   "id": "301762d2",
   "metadata": {},
   "outputs": [
    {
     "name": "stdout",
     "output_type": "stream",
     "text": [
      "20\n",
      "<class 'str'>\n"
     ]
    }
   ],
   "source": [
    "a=input()\n",
    "print(type(a))"
   ]
  },
  {
   "cell_type": "code",
   "execution_count": 51,
   "id": "c9c2662f",
   "metadata": {},
   "outputs": [
    {
     "name": "stdout",
     "output_type": "stream",
     "text": [
      "20\n",
      "30\n"
     ]
    },
    {
     "data": {
      "text/plain": [
       "'2030'"
      ]
     },
     "execution_count": 51,
     "metadata": {},
     "output_type": "execute_result"
    }
   ],
   "source": [
    "#input ==> takes in the from of string\n",
    "a=input() #==> '20'\n",
    "b=input() #==>'30'\n",
    "a+b #'20+30' ==> '2030'"
   ]
  },
  {
   "cell_type": "code",
   "execution_count": 52,
   "id": "17220ae2",
   "metadata": {},
   "outputs": [],
   "source": [
    "#string ==>integer conversion int('30')=>30"
   ]
  },
  {
   "cell_type": "code",
   "execution_count": 58,
   "id": "f3ba9599",
   "metadata": {},
   "outputs": [
    {
     "name": "stdout",
     "output_type": "stream",
     "text": [
      "20\n",
      "30\n"
     ]
    }
   ],
   "source": [
    "a=input()\n",
    "n1=int(a)\n",
    "b=input()\n",
    "n2=int(b)"
   ]
  },
  {
   "cell_type": "code",
   "execution_count": 54,
   "id": "06be0189",
   "metadata": {},
   "outputs": [
    {
     "data": {
      "text/plain": [
       "int"
      ]
     },
     "execution_count": 54,
     "metadata": {},
     "output_type": "execute_result"
    }
   ],
   "source": [
    "type(n1)"
   ]
  },
  {
   "cell_type": "code",
   "execution_count": 55,
   "id": "0ed65f63",
   "metadata": {},
   "outputs": [
    {
     "data": {
      "text/plain": [
       "50"
      ]
     },
     "execution_count": 55,
     "metadata": {},
     "output_type": "execute_result"
    }
   ],
   "source": [
    "n1+n2"
   ]
  },
  {
   "cell_type": "code",
   "execution_count": 59,
   "id": "d341a646",
   "metadata": {},
   "outputs": [
    {
     "name": "stdout",
     "output_type": "stream",
     "text": [
      "20\n",
      "30\n",
      "50\n"
     ]
    }
   ],
   "source": [
    "a=int(input())\n",
    "b=int(input())\n",
    "c=a+b\n",
    "print(c)"
   ]
  },
  {
   "cell_type": "code",
   "execution_count": 62,
   "id": "d8f2554a",
   "metadata": {},
   "outputs": [
    {
     "data": {
      "text/plain": [
       "20"
      ]
     },
     "execution_count": 62,
     "metadata": {},
     "output_type": "execute_result"
    }
   ],
   "source": [
    "#logical Operator works on all type of data\n",
    "#and\n",
    "10 and 20 #10==> true return 20"
   ]
  },
  {
   "cell_type": "code",
   "execution_count": 63,
   "id": "02a9decf",
   "metadata": {},
   "outputs": [
    {
     "data": {
      "text/plain": [
       "0"
      ]
     },
     "execution_count": 63,
     "metadata": {},
     "output_type": "execute_result"
    }
   ],
   "source": [
    "0 and 20 #1st operand is false "
   ]
  },
  {
   "cell_type": "code",
   "execution_count": 64,
   "id": "bfea10b7",
   "metadata": {},
   "outputs": [
    {
     "data": {
      "text/plain": [
       "'barnak'"
      ]
     },
     "execution_count": 64,
     "metadata": {},
     "output_type": "execute_result"
    }
   ],
   "source": [
    "10 and \"barnak\" #1st operand is true"
   ]
  },
  {
   "cell_type": "code",
   "execution_count": 65,
   "id": "12643d8a",
   "metadata": {},
   "outputs": [
    {
     "data": {
      "text/plain": [
       "''"
      ]
     },
     "execution_count": 65,
     "metadata": {},
     "output_type": "execute_result"
    }
   ],
   "source": [
    "\"\" and \"ghosh\""
   ]
  },
  {
   "cell_type": "code",
   "execution_count": 66,
   "id": "3bb00515",
   "metadata": {},
   "outputs": [
    {
     "data": {
      "text/plain": [
       "'ghosh'"
      ]
     },
     "execution_count": 66,
     "metadata": {},
     "output_type": "execute_result"
    }
   ],
   "source": [
    "\"barnak\" and \"ghosh\""
   ]
  },
  {
   "cell_type": "code",
   "execution_count": 67,
   "id": "28e8f359",
   "metadata": {},
   "outputs": [
    {
     "data": {
      "text/plain": [
       "10"
      ]
     },
     "execution_count": 67,
     "metadata": {},
     "output_type": "execute_result"
    }
   ],
   "source": [
    "10.4 and 10"
   ]
  },
  {
   "cell_type": "code",
   "execution_count": 68,
   "id": "3bc9bcef",
   "metadata": {},
   "outputs": [],
   "source": [
    "#non boolean ==> only 0 false and everyelse is true; in string is false everything is true"
   ]
  },
  {
   "cell_type": "code",
   "execution_count": 69,
   "id": "72dc0e37",
   "metadata": {},
   "outputs": [
    {
     "data": {
      "text/plain": [
       "10"
      ]
     },
     "execution_count": 69,
     "metadata": {},
     "output_type": "execute_result"
    }
   ],
   "source": [
    "10 or 0"
   ]
  },
  {
   "cell_type": "code",
   "execution_count": 70,
   "id": "be266dd3",
   "metadata": {},
   "outputs": [
    {
     "data": {
      "text/plain": [
       "30"
      ]
     },
     "execution_count": 70,
     "metadata": {},
     "output_type": "execute_result"
    }
   ],
   "source": [
    "30 or 0.0"
   ]
  },
  {
   "cell_type": "code",
   "execution_count": 71,
   "id": "aab54e02",
   "metadata": {},
   "outputs": [
    {
     "data": {
      "text/plain": [
       "10"
      ]
     },
     "execution_count": 71,
     "metadata": {},
     "output_type": "execute_result"
    }
   ],
   "source": [
    "10 or 20 #1st operand is true."
   ]
  },
  {
   "cell_type": "code",
   "execution_count": 72,
   "id": "22a97835",
   "metadata": {},
   "outputs": [
    {
     "data": {
      "text/plain": [
       "20.3"
      ]
     },
     "execution_count": 72,
     "metadata": {},
     "output_type": "execute_result"
    }
   ],
   "source": [
    "0 or 20.3 #1st operand is false"
   ]
  },
  {
   "cell_type": "code",
   "execution_count": 73,
   "id": "7510114f",
   "metadata": {},
   "outputs": [
    {
     "data": {
      "text/plain": [
       "'pankaj'"
      ]
     },
     "execution_count": 73,
     "metadata": {},
     "output_type": "execute_result"
    }
   ],
   "source": [
    "\"pankaj\" or \"sharma\""
   ]
  },
  {
   "cell_type": "code",
   "execution_count": 75,
   "id": "b5a771d3",
   "metadata": {},
   "outputs": [],
   "source": [
    "#not(false)==> True\n",
    "#not(True)==> False"
   ]
  },
  {
   "cell_type": "code",
   "execution_count": 76,
   "id": "bacc06e6",
   "metadata": {},
   "outputs": [
    {
     "data": {
      "text/plain": [
       "False"
      ]
     },
     "execution_count": 76,
     "metadata": {},
     "output_type": "execute_result"
    }
   ],
   "source": [
    "not 10"
   ]
  },
  {
   "cell_type": "code",
   "execution_count": 77,
   "id": "52ba113b",
   "metadata": {},
   "outputs": [
    {
     "data": {
      "text/plain": [
       "True"
      ]
     },
     "execution_count": 77,
     "metadata": {},
     "output_type": "execute_result"
    }
   ],
   "source": [
    "not 0"
   ]
  },
  {
   "cell_type": "code",
   "execution_count": 78,
   "id": "8830ea70",
   "metadata": {},
   "outputs": [
    {
     "data": {
      "text/plain": [
       "False"
      ]
     },
     "execution_count": 78,
     "metadata": {},
     "output_type": "execute_result"
    }
   ],
   "source": [
    "not \"barnak\""
   ]
  },
  {
   "cell_type": "code",
   "execution_count": 79,
   "id": "6c4107f9",
   "metadata": {},
   "outputs": [
    {
     "data": {
      "text/plain": [
       "True"
      ]
     },
     "execution_count": 79,
     "metadata": {},
     "output_type": "execute_result"
    }
   ],
   "source": [
    "not 0+0j"
   ]
  },
  {
   "cell_type": "code",
   "execution_count": 80,
   "id": "f4abdb5b",
   "metadata": {},
   "outputs": [
    {
     "data": {
      "text/plain": [
       "4"
      ]
     },
     "execution_count": 80,
     "metadata": {},
     "output_type": "execute_result"
    }
   ],
   "source": [
    "5&6"
   ]
  },
  {
   "cell_type": "code",
   "execution_count": 82,
   "id": "748b3387",
   "metadata": {},
   "outputs": [
    {
     "data": {
      "text/plain": [
       "int"
      ]
     },
     "execution_count": 82,
     "metadata": {},
     "output_type": "execute_result"
    }
   ],
   "source": [
    "type(4)"
   ]
  },
  {
   "cell_type": "code",
   "execution_count": 83,
   "id": "6024a663",
   "metadata": {},
   "outputs": [],
   "source": [
    "#Bit wise operators ===> only it works in int and bool"
   ]
  },
  {
   "cell_type": "code",
   "execution_count": 84,
   "id": "6b2eed85",
   "metadata": {},
   "outputs": [
    {
     "data": {
      "text/plain": [
       "4"
      ]
     },
     "execution_count": 84,
     "metadata": {},
     "output_type": "execute_result"
    }
   ],
   "source": [
    "a"
   ]
  },
  {
   "cell_type": "code",
   "execution_count": 85,
   "id": "2660689a",
   "metadata": {},
   "outputs": [
    {
     "data": {
      "text/plain": [
       "True"
      ]
     },
     "execution_count": 85,
     "metadata": {},
     "output_type": "execute_result"
    }
   ],
   "source": [
    "True & True"
   ]
  },
  {
   "cell_type": "code",
   "execution_count": 86,
   "id": "5af9df35",
   "metadata": {},
   "outputs": [
    {
     "data": {
      "text/plain": [
       "1"
      ]
     },
     "execution_count": 86,
     "metadata": {},
     "output_type": "execute_result"
    }
   ],
   "source": [
    "0|1"
   ]
  },
  {
   "cell_type": "code",
   "execution_count": 87,
   "id": "3c808717",
   "metadata": {},
   "outputs": [
    {
     "data": {
      "text/plain": [
       "7"
      ]
     },
     "execution_count": 87,
     "metadata": {},
     "output_type": "execute_result"
    }
   ],
   "source": [
    "5|6"
   ]
  },
  {
   "cell_type": "code",
   "execution_count": 88,
   "id": "658e5707",
   "metadata": {},
   "outputs": [
    {
     "data": {
      "text/plain": [
       "7"
      ]
     },
     "execution_count": 88,
     "metadata": {},
     "output_type": "execute_result"
    }
   ],
   "source": [
    "a=5|6\n",
    "a"
   ]
  },
  {
   "cell_type": "code",
   "execution_count": 89,
   "id": "0a3e9ace",
   "metadata": {},
   "outputs": [
    {
     "data": {
      "text/plain": [
       "3"
      ]
     },
     "execution_count": 89,
     "metadata": {},
     "output_type": "execute_result"
    }
   ],
   "source": [
    "a=5^6\n",
    "a"
   ]
  },
  {
   "cell_type": "code",
   "execution_count": null,
   "id": "1e867ea8",
   "metadata": {},
   "outputs": [],
   "source": []
  }
 ],
 "metadata": {
  "kernelspec": {
   "display_name": "Python 3 (ipykernel)",
   "language": "python",
   "name": "python3"
  },
  "language_info": {
   "codemirror_mode": {
    "name": "ipython",
    "version": 3
   },
   "file_extension": ".py",
   "mimetype": "text/x-python",
   "name": "python",
   "nbconvert_exporter": "python",
   "pygments_lexer": "ipython3",
   "version": "3.10.6"
  }
 },
 "nbformat": 4,
 "nbformat_minor": 5
}

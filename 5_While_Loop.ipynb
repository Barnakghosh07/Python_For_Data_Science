{
 "cells": [
  {
   "cell_type": "code",
   "execution_count": 35,
   "id": "37528e6a",
   "metadata": {},
   "outputs": [
    {
     "name": "stdout",
     "output_type": "stream",
     "text": [
      "120\n"
     ]
    }
   ],
   "source": [
    "#while loop\n",
    "i=1\n",
    "prod=1\n",
    "while i<=5:\n",
    "    prod=prod*i\n",
    "    i=i+1\n",
    "print(prod)"
   ]
  },
  {
   "cell_type": "code",
   "execution_count": 8,
   "id": "401f4da1",
   "metadata": {},
   "outputs": [
    {
     "name": "stdout",
     "output_type": "stream",
     "text": [
      "enter the number6\n",
      "720\n"
     ]
    }
   ],
   "source": [
    "#product of a number\n",
    "n=int(input(\"enter the number\"))\n",
    "i=1\n",
    "prod=1\n",
    "while i<=n:\n",
    "    prod=prod *i\n",
    "    i=i+1\n",
    "print(prod)"
   ]
  },
  {
   "cell_type": "code",
   "execution_count": 14,
   "id": "a361b5c7",
   "metadata": {},
   "outputs": [
    {
     "name": "stdout",
     "output_type": "stream",
     "text": [
      "enter the number8747982673867\n",
      "the number of digit is :  13\n"
     ]
    }
   ],
   "source": [
    "#to print the number of digits in a postive number of the entered by user\n",
    "n=int(input(\"enter the number\"))\n",
    "c=0\n",
    "while n!=0:\n",
    "    n=n//10\n",
    "    c=c+1\n",
    "print(\"the number of digit is : \", c)"
   ]
  },
  {
   "cell_type": "code",
   "execution_count": 15,
   "id": "d7e17069",
   "metadata": {},
   "outputs": [
    {
     "name": "stdout",
     "output_type": "stream",
     "text": [
      "enter the number: 20\n",
      "1\n",
      "2\n",
      "4\n",
      "5\n",
      "10\n",
      "20\n"
     ]
    }
   ],
   "source": [
    "#program to print all factors of a number n>0\n",
    "n=int(input(\"enter the number: \"))\n",
    "for i in range(1,n+1):\n",
    "    if n%i==0:\n",
    "        print(i)"
   ]
  },
  {
   "cell_type": "code",
   "execution_count": 17,
   "id": "6e49b5e8",
   "metadata": {},
   "outputs": [
    {
     "name": "stdout",
     "output_type": "stream",
     "text": [
      "enter the number: 6\n",
      "[1, 2, 3, 6]\n"
     ]
    }
   ],
   "source": [
    "#using list\n",
    "n=int(input(\"enter the number: \"))\n",
    "l=[] #enpty list\n",
    "for i in range(1,n+1):\n",
    "    if n%i==0:\n",
    "        l.append(i)\n",
    "print(l)"
   ]
  },
  {
   "cell_type": "code",
   "execution_count": 25,
   "id": "65bd1aac",
   "metadata": {},
   "outputs": [
    {
     "name": "stdout",
     "output_type": "stream",
     "text": [
      "enter the number: 6\n",
      "the number is perfect 6 is perfect\n"
     ]
    }
   ],
   "source": [
    "#whether a number is perfect of not\n",
    "n=int(input(\"enter the number: \"))\n",
    "sum=0\n",
    "for i in range(1,n):\n",
    "    if n%i==0: \n",
    "        sum=sum+i\n",
    "if sum==n:\n",
    "    print(\"the number is perfect\",n,\"is perfect\")\n",
    "else:\n",
    "    print(\"Not Perfect\",n,\"is not perfect\")"
   ]
  },
  {
   "cell_type": "code",
   "execution_count": 27,
   "id": "656a8354",
   "metadata": {},
   "outputs": [
    {
     "name": "stdout",
     "output_type": "stream",
     "text": [
      "enter a number: 1234\n",
      "The sum of digits in  1234 is 10\n"
     ]
    }
   ],
   "source": [
    "#to print sum of digits of number\n",
    "n=int(input(\"enter a number: \"))\n",
    "a=n\n",
    "sum=0\n",
    "while n!=0:\n",
    "    last=n%10\n",
    "    sum=sum+last\n",
    "    n=n//10\n",
    "print(\"The sum of digits in \",a,\"is\",sum)"
   ]
  },
  {
   "cell_type": "code",
   "execution_count": null,
   "id": "dc9fd141",
   "metadata": {},
   "outputs": [],
   "source": [
    "while True:\n",
    "    print(\"1\") #infinte loop"
   ]
  },
  {
   "cell_type": "code",
   "execution_count": 33,
   "id": "41ffaab9",
   "metadata": {},
   "outputs": [
    {
     "name": "stdout",
     "output_type": "stream",
     "text": [
      "hello\n"
     ]
    }
   ],
   "source": [
    "print(\"hello\")"
   ]
  },
  {
   "cell_type": "code",
   "execution_count": 34,
   "id": "cc4b611b",
   "metadata": {},
   "outputs": [],
   "source": [
    "# write a program to of strong number\n",
    "# strong number==> a number n is said to be a strong number if the sum of factorial of digits of number in the number is equal to the number of itself. "
   ]
  },
  {
   "cell_type": "code",
   "execution_count": null,
   "id": "ef83186e",
   "metadata": {},
   "outputs": [],
   "source": []
  }
 ],
 "metadata": {
  "kernelspec": {
   "display_name": "Python 3 (ipykernel)",
   "language": "python",
   "name": "python3"
  },
  "language_info": {
   "codemirror_mode": {
    "name": "ipython",
    "version": 3
   },
   "file_extension": ".py",
   "mimetype": "text/x-python",
   "name": "python",
   "nbconvert_exporter": "python",
   "pygments_lexer": "ipython3",
   "version": "3.10.6"
  }
 },
 "nbformat": 4,
 "nbformat_minor": 5
}
